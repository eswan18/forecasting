{
 "cells": [
  {
   "cell_type": "markdown",
   "id": "77f19fb2-c0c4-41f0-b90d-9515b3fe8d83",
   "metadata": {},
   "source": [
    "This notebook takes in the raw probabilities file (from `content/posts/2023/2023-12-17-probability-estimates-2024`) and:\n",
    "1. Transforms it so that each person gets a row, and each event is a column\n",
    "2. Adds a row of \"average\" predictions at the bottom\n",
    "3. Adds a set of *resolutions*, answers as to whether each predicted event actually occurred.\n",
    "4. Calculates Brier scores for each person as well as for the average predictions."
   ]
  },
  {
   "cell_type": "code",
   "execution_count": 1,
   "id": "7b0d80e6-2646-44f1-9fab-0cbb7ba8e51a",
   "metadata": {},
   "outputs": [],
   "source": [
    "import polars as pl"
   ]
  },
  {
   "cell_type": "code",
   "execution_count": 2,
   "id": "3ab39087-e1e3-4b85-ad43-06d445b78f49",
   "metadata": {},
   "outputs": [],
   "source": [
    "raw = pl.read_csv('raw_probabilities.csv')"
   ]
  },
  {
   "cell_type": "code",
   "execution_count": 63,
   "id": "0e24fe9a-9a92-4cc4-abc6-4168d921848b",
   "metadata": {},
   "outputs": [
    {
     "data": {
      "text/html": [
       "<div><style>\n",
       ".dataframe > thead > tr,\n",
       ".dataframe > tbody > tr {\n",
       "  text-align: right;\n",
       "  white-space: pre-wrap;\n",
       "}\n",
       "</style>\n",
       "<small>shape: (11, 41)</small><table border=\"1\" class=\"dataframe\"><thead><tr><th>Name</th><th>Geopolitics | China lands ground forces on the island of Taiwan</th><th>Geopolitics | Russia and Ukraine sign a truce to stop all combat operations and honor it until the end of the year</th><th>Geopolitics | Nuclear weapons are used in an attack (not just tested) somewhere in the world.</th><th>Geopolitics | Xi Jinping is still the premier of China at the end of 2024.</th><th>Geopolitics | Narendra Modi is still the prime minister of India at the end of 2024.</th><th>Geopolitics | Benjamin Netanyahu is still the prime minister of Israel at the end of 2024.</th><th>Geopolitics | Vladimir Putin is still the president of Russia at the end of 2024.</th><th>Geopolitics | Vlodymyr Zelenskyy is still the president of Ukraine at the end of 2024.</th><th>Geopolitics | Pope Francis (Jorge Mario Bergoglio) is still the active pope at the end of 2024.</th><th>US Politics | Donald Trump is elected president.</th><th>US Politics | Joe Biden is re-elected president.</th><th>US Politics | A Republican candidate who isn&#x27;t Donald Trump is elected president.</th><th>US Politics | A Democrat candidate who isn&#x27;t Joe Biden is elected president.</th><th>US Politics | At least one third-party US presidential candidate gets 3% or more of the popular vote.</th><th>US Politics | The US president elect dies between the election and the end of 2024.</th><th>US Politics | 2024 elections give Democrats control of the Senate.</th><th>US Politics | 2024 elections give Democrats control of the House of Representatives.</th><th>US Politics | At least one member of the US Supreme Court steps down or dies during 2024.</th><th>US Politics | President Jimmy Carter is still alive at the end of 2024.</th><th>US Politics | Donald Trump is convicted of a federal crime.</th><th>US Politics | Joe Biden is impeached.</th><th>Sports &amp; Culture | Mainstream news outlets report definitively that Taylor Swift and Travis Kelce have broken up.</th><th>Sports &amp; Culture | Taylor Swift releases an album of composed primarily of entirely new music.</th><th>Sports &amp; Culture | LeBron James retires from or otherwise leaves the NBA, and does not change his mind before the end of the year.</th><th>Sports &amp; Culture | LeBron James and his son LeBron Jr (aka &quot;&quot;Bronny&quot;&quot;) are under contract with the same NBA team at any point during 2024.</th><th>Sports &amp; Culture | Lionel Messi retires from or otherwise leaves the MLS, and does not change his mind before the end of the year.</th><th>Sports &amp; Culture | The US wins the most gold medals of any country (or ties for first) in the Paris Olympics.</th><th>Sports &amp; Culture | The US wins the gold medal in basketball at the Paris Olympics.</th><th>Sports &amp; Culture | One of the three championship favorites (Boston Celtics, Denver Nuggets, Milwaukee Bucks) wins the 2024 NBA title.</th><th>Business &amp; Tech | The S&amp;P 500 closes the year higher than it began.</th><th>Business &amp; Tech | The Fed raises interest rates at least once in 2024 (even if they also decrease rates).</th><th>Business &amp; Tech | Sam Altman is still the CEO of OpenAI at the end of 2024.</th><th>Business &amp; Tech | OpenAI releases (or allows a public preview of) a product branded &quot;&quot;GPT-5&quot;&quot; or &quot;&quot;ChatGPT-5&quot;&quot;.</th><th>Business &amp; Tech | Meta is ordered to divest a business unit, by federal court or commission.</th><th>Business &amp; Tech | Amazon is ordered to divest a business unit, by federal court or commission.</th><th>Business &amp; Tech | Alphabet is ordered to divest a business unit, by federal court or commission.</th><th>Business &amp; Tech | The X/Twitter platform still exists at the end of the year: you can log in, share content, and view content.</th><th>Business &amp; Tech | Nvidia remains in the top 10 American companies by market cap at the end of 2024.</th><th>Business &amp; Tech | Tim Cook is still the CEO of Apple at the end of the year.</th><th>Business &amp; Tech | Andy Jassy is still the CEO of Amazon at the end of the year.</th></tr><tr><td>str</td><td>f64</td><td>f64</td><td>f64</td><td>f64</td><td>f64</td><td>f64</td><td>f64</td><td>f64</td><td>f64</td><td>f64</td><td>f64</td><td>f64</td><td>f64</td><td>f64</td><td>f64</td><td>f64</td><td>f64</td><td>f64</td><td>f64</td><td>f64</td><td>f64</td><td>f64</td><td>f64</td><td>f64</td><td>f64</td><td>f64</td><td>f64</td><td>f64</td><td>f64</td><td>f64</td><td>f64</td><td>f64</td><td>f64</td><td>f64</td><td>f64</td><td>f64</td><td>f64</td><td>f64</td><td>f64</td><td>f64</td></tr></thead><tbody><tr><td>&quot;Raluca Pavel&quot;</td><td>0.26</td><td>0.15</td><td>0.0</td><td>1.0</td><td>1.0</td><td>0.9</td><td>1.0</td><td>0.8</td><td>1.0</td><td>0.48</td><td>0.52</td><td>0.0</td><td>0.0</td><td>1.0</td><td>0.2</td><td>0.3</td><td>0.5</td><td>0.65</td><td>0.0</td><td>1.0</td><td>0.0</td><td>0.7</td><td>0.1</td><td>0.0</td><td>0.2</td><td>0.1</td><td>0.87</td><td>1.0</td><td>0.95</td><td>0.68</td><td>1.0</td><td>0.8</td><td>0.95</td><td>0.45</td><td>0.45</td><td>0.45</td><td>1.0</td><td>1.0</td><td>1.0</td><td>0.87</td></tr><tr><td>&quot;Ethan Swan&quot;</td><td>0.03</td><td>0.65</td><td>0.1</td><td>0.98</td><td>0.9</td><td>0.65</td><td>0.85</td><td>0.8</td><td>0.9</td><td>0.42</td><td>0.53</td><td>0.01</td><td>0.04</td><td>0.15</td><td>0.01</td><td>0.3</td><td>0.55</td><td>0.2</td><td>0.05</td><td>0.15</td><td>0.15</td><td>0.25</td><td>0.35</td><td>0.15</td><td>0.2</td><td>0.3</td><td>0.5</td><td>0.85</td><td>0.8</td><td>0.72</td><td>0.4</td><td>0.8</td><td>0.65</td><td>0.1</td><td>0.05</td><td>0.15</td><td>0.85</td><td>0.45</td><td>0.9</td><td>0.93</td></tr><tr><td>&quot;Tommy Callan&quot;</td><td>0.0</td><td>0.1</td><td>0.0</td><td>1.0</td><td>1.0</td><td>0.2</td><td>1.0</td><td>1.0</td><td>1.0</td><td>0.4</td><td>0.4</td><td>0.1</td><td>0.1</td><td>0.75</td><td>0.0</td><td>0.75</td><td>0.8</td><td>1.0</td><td>0.2</td><td>1.0</td><td>0.9</td><td>1.0</td><td>0.5</td><td>0.2</td><td>0.1</td><td>0.2</td><td>0.95</td><td>0.9</td><td>0.6</td><td>1.0</td><td>0.25</td><td>1.0</td><td>0.1</td><td>0.3</td><td>0.3</td><td>0.3</td><td>1.0</td><td>0.5</td><td>0.9</td><td>0.9</td></tr><tr><td>&quot;Greg Moore&quot;</td><td>0.01</td><td>0.05</td><td>0.0</td><td>0.95</td><td>0.95</td><td>0.9</td><td>0.9</td><td>0.9</td><td>0.8</td><td>0.5</td><td>0.5</td><td>0.05</td><td>0.05</td><td>0.05</td><td>0.001</td><td>0.6</td><td>0.6</td><td>0.03</td><td>0.1</td><td>0.7</td><td>0.02</td><td>1.0</td><td>0.89</td><td>0.0</td><td>0.2</td><td>0.0</td><td>0.75</td><td>0.9</td><td>0.9</td><td>0.8</td><td>0.1</td><td>0.9</td><td>0.87</td><td>0.15</td><td>0.15</td><td>0.15</td><td>0.4</td><td>0.95</td><td>0.7</td><td>0.7</td></tr><tr><td>&quot;Abhisek Gupta&quot;</td><td>0.01</td><td>0.5</td><td>0.001</td><td>0.9</td><td>0.75</td><td>0.1</td><td>0.9</td><td>0.75</td><td>0.9</td><td>0.6</td><td>0.4</td><td>0.1</td><td>0.01</td><td>0.9</td><td>0.001</td><td>0.3</td><td>0.5</td><td>0.01</td><td>0.001</td><td>0.3</td><td>0.4</td><td>0.2</td><td>0.01</td><td>0.01</td><td>0.2</td><td>0.1</td><td>0.6</td><td>0.9</td><td>0.8</td><td>0.7</td><td>0.01</td><td>0.5</td><td>0.7</td><td>0.1</td><td>0.1</td><td>0.1</td><td>0.95</td><td>0.7</td><td>0.8</td><td>0.7</td></tr><tr><td>&hellip;</td><td>&hellip;</td><td>&hellip;</td><td>&hellip;</td><td>&hellip;</td><td>&hellip;</td><td>&hellip;</td><td>&hellip;</td><td>&hellip;</td><td>&hellip;</td><td>&hellip;</td><td>&hellip;</td><td>&hellip;</td><td>&hellip;</td><td>&hellip;</td><td>&hellip;</td><td>&hellip;</td><td>&hellip;</td><td>&hellip;</td><td>&hellip;</td><td>&hellip;</td><td>&hellip;</td><td>&hellip;</td><td>&hellip;</td><td>&hellip;</td><td>&hellip;</td><td>&hellip;</td><td>&hellip;</td><td>&hellip;</td><td>&hellip;</td><td>&hellip;</td><td>&hellip;</td><td>&hellip;</td><td>&hellip;</td><td>&hellip;</td><td>&hellip;</td><td>&hellip;</td><td>&hellip;</td><td>&hellip;</td><td>&hellip;</td><td>&hellip;</td></tr><tr><td>&quot;Alex Van Fossen &quot;</td><td>0.05</td><td>0.2</td><td>0.05</td><td>0.95</td><td>0.95</td><td>0.9</td><td>0.9</td><td>0.95</td><td>0.87</td><td>0.3</td><td>0.6</td><td>0.05</td><td>0.05</td><td>0.01</td><td>0.005</td><td>0.2</td><td>0.6</td><td>0.1</td><td>0.05</td><td>0.5</td><td>0.005</td><td>0.5</td><td>0.7</td><td>0.5</td><td>0.05</td><td>0.2</td><td>0.65</td><td>0.7</td><td>0.4</td><td>0.9</td><td>0.2</td><td>0.8</td><td>0.7</td><td>0.1</td><td>0.1</td><td>0.1</td><td>0.3</td><td>0.4</td><td>0.9</td><td>0.9</td></tr><tr><td>&quot;David Schmitz&quot;</td><td>0.03</td><td>0.2</td><td>0.001</td><td>0.995</td><td>0.9</td><td>0.9</td><td>0.97</td><td>0.95</td><td>0.94</td><td>0.4</td><td>0.3</td><td>0.1</td><td>0.2</td><td>0.07</td><td>0.06</td><td>0.6</td><td>0.3</td><td>0.1</td><td>0.02</td><td>0.5</td><td>0.03</td><td>0.4</td><td>0.7</td><td>0.6</td><td>0.09</td><td>0.2</td><td>0.4</td><td>0.8</td><td>0.5</td><td>0.6</td><td>0.5</td><td>0.7</td><td>0.7</td><td>0.05</td><td>0.06</td><td>0.08</td><td>0.96</td><td>0.4</td><td>0.9</td><td>0.7</td></tr><tr><td>&quot;Phil Anderson&quot;</td><td>0.01</td><td>0.1</td><td>0.0001</td><td>0.99</td><td>0.95</td><td>0.99</td><td>0.99</td><td>0.7</td><td>0.7</td><td>0.4999</td><td>0.35</td><td>0.0001</td><td>0.15</td><td>0.9</td><td>0.001</td><td>0.45</td><td>0.3</td><td>0.01</td><td>0.01</td><td>0.05</td><td>0.05</td><td>0.9</td><td>0.9</td><td>0.01</td><td>0.2</td><td>0.05</td><td>0.4</td><td>0.99</td><td>0.3</td><td>0.5</td><td>0.2</td><td>0.98</td><td>0.4</td><td>0.02</td><td>0.02</td><td>0.2</td><td>0.9999</td><td>0.999</td><td>0.999</td><td>0.999</td></tr><tr><td>&quot;Brian Van Fossen&quot;</td><td>0.05</td><td>0.2</td><td>0.01</td><td>0.8</td><td>0.7</td><td>0.7</td><td>0.8</td><td>0.95</td><td>0.8</td><td>0.15</td><td>0.5</td><td>0.25</td><td>0.1</td><td>0.03</td><td>0.05</td><td>0.4</td><td>0.6</td><td>0.3</td><td>0.4</td><td>0.15</td><td>0.05</td><td>0.3</td><td>0.6</td><td>0.5</td><td>0.05</td><td>0.5</td><td>0.95</td><td>0.6</td><td>0.6</td><td>0.75</td><td>0.3</td><td>0.6</td><td>0.5</td><td>0.2</td><td>0.2</td><td>0.2</td><td>0.9</td><td>0.95</td><td>0.9</td><td>0.75</td></tr><tr><td>&quot;Lizz Hyde &quot;</td><td>0.65</td><td>0.15</td><td>0.001</td><td>0.85</td><td>0.85</td><td>0.65</td><td>0.85</td><td>0.55</td><td>0.5</td><td>0.2</td><td>0.6</td><td>0.05</td><td>0.1</td><td>0.45</td><td>0.7</td><td>0.52</td><td>0.58</td><td>0.92</td><td>0.3</td><td>0.85</td><td>0.4</td><td>0.35</td><td>0.95</td><td>0.25</td><td>0.08</td><td>0.5</td><td>0.15</td><td>0.75</td><td>0.75</td><td>0.65</td><td>0.4</td><td>0.9</td><td>0.85</td><td>0.8</td><td>0.7</td><td>0.85</td><td>0.9</td><td>0.75</td><td>0.8</td><td>0.5</td></tr></tbody></table></div>"
      ],
      "text/plain": [
       "shape: (11, 41)\n",
       "┌───────────┬───────────┬───────────┬───────────┬───┬───────────┬───────────┬───────────┬──────────┐\n",
       "│ Name      ┆ Geopoliti ┆ Geopoliti ┆ Geopoliti ┆ … ┆ Business  ┆ Business  ┆ Business  ┆ Business │\n",
       "│ ---       ┆ cs |      ┆ cs |      ┆ cs |      ┆   ┆ & Tech |  ┆ & Tech |  ┆ & Tech |  ┆ & Tech | │\n",
       "│ str       ┆ China     ┆ Russia    ┆ Nuclear   ┆   ┆ The       ┆ Nvidia    ┆ Tim Cook  ┆ Andy     │\n",
       "│           ┆ lands     ┆ and       ┆ weapons … ┆   ┆ X/Twitte… ┆ remai…    ┆ is …      ┆ Jassy i… │\n",
       "│           ┆ grou…     ┆ Ukrai…    ┆ ---       ┆   ┆ ---       ┆ ---       ┆ ---       ┆ ---      │\n",
       "│           ┆ ---       ┆ ---       ┆ f64       ┆   ┆ f64       ┆ f64       ┆ f64       ┆ f64      │\n",
       "│           ┆ f64       ┆ f64       ┆           ┆   ┆           ┆           ┆           ┆          │\n",
       "╞═══════════╪═══════════╪═══════════╪═══════════╪═══╪═══════════╪═══════════╪═══════════╪══════════╡\n",
       "│ Raluca    ┆ 0.26      ┆ 0.15      ┆ 0.0       ┆ … ┆ 1.0       ┆ 1.0       ┆ 1.0       ┆ 0.87     │\n",
       "│ Pavel     ┆           ┆           ┆           ┆   ┆           ┆           ┆           ┆          │\n",
       "│ Ethan     ┆ 0.03      ┆ 0.65      ┆ 0.1       ┆ … ┆ 0.85      ┆ 0.45      ┆ 0.9       ┆ 0.93     │\n",
       "│ Swan      ┆           ┆           ┆           ┆   ┆           ┆           ┆           ┆          │\n",
       "│ Tommy     ┆ 0.0       ┆ 0.1       ┆ 0.0       ┆ … ┆ 1.0       ┆ 0.5       ┆ 0.9       ┆ 0.9      │\n",
       "│ Callan    ┆           ┆           ┆           ┆   ┆           ┆           ┆           ┆          │\n",
       "│ Greg      ┆ 0.01      ┆ 0.05      ┆ 0.0       ┆ … ┆ 0.4       ┆ 0.95      ┆ 0.7       ┆ 0.7      │\n",
       "│ Moore     ┆           ┆           ┆           ┆   ┆           ┆           ┆           ┆          │\n",
       "│ Abhisek   ┆ 0.01      ┆ 0.5       ┆ 0.001     ┆ … ┆ 0.95      ┆ 0.7       ┆ 0.8       ┆ 0.7      │\n",
       "│ Gupta     ┆           ┆           ┆           ┆   ┆           ┆           ┆           ┆          │\n",
       "│ …         ┆ …         ┆ …         ┆ …         ┆ … ┆ …         ┆ …         ┆ …         ┆ …        │\n",
       "│ Alex Van  ┆ 0.05      ┆ 0.2       ┆ 0.05      ┆ … ┆ 0.3       ┆ 0.4       ┆ 0.9       ┆ 0.9      │\n",
       "│ Fossen    ┆           ┆           ┆           ┆   ┆           ┆           ┆           ┆          │\n",
       "│ David     ┆ 0.03      ┆ 0.2       ┆ 0.001     ┆ … ┆ 0.96      ┆ 0.4       ┆ 0.9       ┆ 0.7      │\n",
       "│ Schmitz   ┆           ┆           ┆           ┆   ┆           ┆           ┆           ┆          │\n",
       "│ Phil      ┆ 0.01      ┆ 0.1       ┆ 0.0001    ┆ … ┆ 0.9999    ┆ 0.999     ┆ 0.999     ┆ 0.999    │\n",
       "│ Anderson  ┆           ┆           ┆           ┆   ┆           ┆           ┆           ┆          │\n",
       "│ Brian Van ┆ 0.05      ┆ 0.2       ┆ 0.01      ┆ … ┆ 0.9       ┆ 0.95      ┆ 0.9       ┆ 0.75     │\n",
       "│ Fossen    ┆           ┆           ┆           ┆   ┆           ┆           ┆           ┆          │\n",
       "│ Lizz Hyde ┆ 0.65      ┆ 0.15      ┆ 0.001     ┆ … ┆ 0.9       ┆ 0.75      ┆ 0.8       ┆ 0.5      │\n",
       "└───────────┴───────────┴───────────┴───────────┴───┴───────────┴───────────┴───────────┴──────────┘"
      ]
     },
     "execution_count": 63,
     "metadata": {},
     "output_type": "execute_result"
    }
   ],
   "source": [
    "raw"
   ]
  },
  {
   "cell_type": "code",
   "execution_count": 4,
   "id": "c35e7070-8269-4d3d-b87f-8c9574a4e512",
   "metadata": {},
   "outputs": [],
   "source": [
    "raw = raw.drop(['Timestamp', \"Can I track your answers on my website alongside others'?\"])\n",
    "raw = raw.rename({\"What's your name?\": \"Name\"})"
   ]
  },
  {
   "cell_type": "code",
   "execution_count": 118,
   "id": "fa3d62e2-4449-4725-ba8d-425c8e035485",
   "metadata": {},
   "outputs": [],
   "source": [
    "no_resolutions = [\n",
    "    'US Politics | Joe Biden is re-elected president.',\n",
    "    \"US Politics | A Republican candidate who isn't Donald Trump is elected president.\"\n",
    "]\n",
    "presumed_no_resolutions = [\n",
    "    'Geopolitics | China lands ground forces on the island of Taiwan',\n",
    "    'Geopolitics | Russia and Ukraine sign a truce to stop all combat operations and honor it until the end of the year',\n",
    "    'Geopolitics | Nuclear weapons are used in an attack (not just tested) somewhere in the world.',\n",
    "    \"US Politics | A Democrat candidate who isn't Joe Biden is elected president.\",\n",
    "    'US Politics | 2024 elections give Democrats control of the House of Representatives.',\n",
    "    'US Politics | At least one third-party US presidential candidate gets 3% or more of the popular vote.',\n",
    "    'US Politics | The US president elect dies between the election and the end of 2024.',\n",
    "    'US Politics | 2024 elections give Democrats control of the Senate.',\n",
    "    'US Politics | At least one member of the US Supreme Court steps down or dies during 2024.',\n",
    "    'US Politics | Donald Trump is convicted of a federal crime.',\n",
    "    'US Politics | Joe Biden is impeached.',\n",
    "    'Sports & Culture | Mainstream news outlets report definitively that Taylor Swift and Travis Kelce have broken up.',\n",
    "    'Sports & Culture | LeBron James retires from or otherwise leaves the NBA, and does not change his mind before the end of the year.',\n",
    "    'Sports & Culture | Lionel Messi retires from or otherwise leaves the MLS, and does not change his mind before the end of the year.',\n",
    "    'Business & Tech | The Fed raises interest rates at least once in 2024 (even if they also decrease rates).',\n",
    "    'Business & Tech | OpenAI releases (or allows a public preview of) a product branded \"\"GPT-5\"\" or \"\"ChatGPT-5\"\".',\n",
    "    'Business & Tech | Meta is ordered to divest a business unit, by federal court or commission.',\n",
    "    'Business & Tech | Amazon is ordered to divest a business unit, by federal court or commission.',\n",
    "    'Business & Tech | Alphabet is ordered to divest a business unit, by federal court or commission.',\n",
    "]\n",
    "\n",
    "yes_resolutions = [\n",
    "    'Sports & Culture | Taylor Swift releases an album of composed primarily of entirely new music.',\n",
    "    'Sports & Culture | LeBron James and his son LeBron Jr (aka \"\"Bronny\"\") are under contract with the same NBA team at any point during 2024.',\n",
    "    'Sports & Culture | The US wins the most gold medals of any country (or ties for first) in the Paris Olympics.',\n",
    "    # thank goodness this is true whether it refers to men's or women's basketball\n",
    "    'Sports & Culture | The US wins the gold medal in basketball at the Paris Olympics.',\n",
    "    'Sports & Culture | One of the three championship favorites (Boston Celtics, Denver Nuggets, Milwaukee Bucks) wins the 2024 NBA title.',\n",
    "]\n",
    "presumed_yes_resolutions = [\n",
    "    'Geopolitics | Xi Jinping is still the premier of China at the end of 2024.',\n",
    "    'Geopolitics | Narendra Modi is still the prime minister of India at the end of 2024.',\n",
    "    'Geopolitics | Benjamin Netanyahu is still the prime minister of Israel at the end of 2024.',\n",
    "    'Geopolitics | Vladimir Putin is still the president of Russia at the end of 2024.',\n",
    "    'Geopolitics | Vlodymyr Zelenskyy is still the president of Ukraine at the end of 2024.',\n",
    "    'Geopolitics | Pope Francis (Jorge Mario Bergoglio) is still the active pope at the end of 2024.',\n",
    "    'US Politics | Donald Trump is elected president.',\n",
    "    'US Politics | President Jimmy Carter is still alive at the end of 2024.',\n",
    "    'Business & Tech | The S&P 500 closes the year higher than it began.',\n",
    "    'Business & Tech | Sam Altman is still the CEO of OpenAI at the end of 2024.',\n",
    "    'Business & Tech | The X/Twitter platform still exists at the end of the year: you can log in, share content, and view content.',\n",
    "    'Business & Tech | Nvidia remains in the top 10 American companies by market cap at the end of 2024.',\n",
    "    'Business & Tech | Tim Cook is still the CEO of Apple at the end of the year.',\n",
    "    'Business & Tech | Andy Jassy is still the CEO of Amazon at the end of the year.',   \n",
    "]\n",
    "\n",
    "# Temporarily, we have \"presumptions\" -- we'll get rid of them by the end of the year.\n",
    "# In order to do calculations in the meantime, we'll just take our presumptions as accurate.\n",
    "yes_resolutions = yes_resolutions + presumed_yes_resolutions\n",
    "no_resolutions = no_resolutions + presumed_no_resolutions"
   ]
  },
  {
   "cell_type": "code",
   "execution_count": 119,
   "id": "da5caf42-4385-47bc-adaf-f51fa5151273",
   "metadata": {},
   "outputs": [],
   "source": [
    "# Make sure we included every question.\n",
    "assert set(raw.columns) == set(yes_resolutions + no_resolutions + ['Name'])"
   ]
  },
  {
   "cell_type": "code",
   "execution_count": 120,
   "id": "61db5fd3-5821-4fb3-b916-fed0e58888b5",
   "metadata": {},
   "outputs": [
    {
     "data": {
      "text/html": [
       "<div><style>\n",
       ".dataframe > thead > tr,\n",
       ".dataframe > tbody > tr {\n",
       "  text-align: right;\n",
       "  white-space: pre-wrap;\n",
       "}\n",
       "</style>\n",
       "<small>shape: (1, 40)</small><table border=\"1\" class=\"dataframe\"><thead><tr><th>Geopolitics | China lands ground forces on the island of Taiwan</th><th>Geopolitics | Russia and Ukraine sign a truce to stop all combat operations and honor it until the end of the year</th><th>Geopolitics | Nuclear weapons are used in an attack (not just tested) somewhere in the world.</th><th>Geopolitics | Xi Jinping is still the premier of China at the end of 2024.</th><th>Geopolitics | Narendra Modi is still the prime minister of India at the end of 2024.</th><th>Geopolitics | Benjamin Netanyahu is still the prime minister of Israel at the end of 2024.</th><th>Geopolitics | Vladimir Putin is still the president of Russia at the end of 2024.</th><th>Geopolitics | Vlodymyr Zelenskyy is still the president of Ukraine at the end of 2024.</th><th>Geopolitics | Pope Francis (Jorge Mario Bergoglio) is still the active pope at the end of 2024.</th><th>US Politics | Donald Trump is elected president.</th><th>US Politics | Joe Biden is re-elected president.</th><th>US Politics | A Republican candidate who isn&#x27;t Donald Trump is elected president.</th><th>US Politics | A Democrat candidate who isn&#x27;t Joe Biden is elected president.</th><th>US Politics | At least one third-party US presidential candidate gets 3% or more of the popular vote.</th><th>US Politics | The US president elect dies between the election and the end of 2024.</th><th>US Politics | 2024 elections give Democrats control of the Senate.</th><th>US Politics | 2024 elections give Democrats control of the House of Representatives.</th><th>US Politics | At least one member of the US Supreme Court steps down or dies during 2024.</th><th>US Politics | President Jimmy Carter is still alive at the end of 2024.</th><th>US Politics | Donald Trump is convicted of a federal crime.</th><th>US Politics | Joe Biden is impeached.</th><th>Sports &amp; Culture | Mainstream news outlets report definitively that Taylor Swift and Travis Kelce have broken up.</th><th>Sports &amp; Culture | Taylor Swift releases an album of composed primarily of entirely new music.</th><th>Sports &amp; Culture | LeBron James retires from or otherwise leaves the NBA, and does not change his mind before the end of the year.</th><th>Sports &amp; Culture | LeBron James and his son LeBron Jr (aka &quot;&quot;Bronny&quot;&quot;) are under contract with the same NBA team at any point during 2024.</th><th>Sports &amp; Culture | Lionel Messi retires from or otherwise leaves the MLS, and does not change his mind before the end of the year.</th><th>Sports &amp; Culture | The US wins the most gold medals of any country (or ties for first) in the Paris Olympics.</th><th>Sports &amp; Culture | The US wins the gold medal in basketball at the Paris Olympics.</th><th>Sports &amp; Culture | One of the three championship favorites (Boston Celtics, Denver Nuggets, Milwaukee Bucks) wins the 2024 NBA title.</th><th>Business &amp; Tech | The S&amp;P 500 closes the year higher than it began.</th><th>Business &amp; Tech | The Fed raises interest rates at least once in 2024 (even if they also decrease rates).</th><th>Business &amp; Tech | Sam Altman is still the CEO of OpenAI at the end of 2024.</th><th>Business &amp; Tech | OpenAI releases (or allows a public preview of) a product branded &quot;&quot;GPT-5&quot;&quot; or &quot;&quot;ChatGPT-5&quot;&quot;.</th><th>Business &amp; Tech | Meta is ordered to divest a business unit, by federal court or commission.</th><th>Business &amp; Tech | Amazon is ordered to divest a business unit, by federal court or commission.</th><th>Business &amp; Tech | Alphabet is ordered to divest a business unit, by federal court or commission.</th><th>Business &amp; Tech | The X/Twitter platform still exists at the end of the year: you can log in, share content, and view content.</th><th>Business &amp; Tech | Nvidia remains in the top 10 American companies by market cap at the end of 2024.</th><th>Business &amp; Tech | Tim Cook is still the CEO of Apple at the end of the year.</th><th>Business &amp; Tech | Andy Jassy is still the CEO of Amazon at the end of the year.</th></tr><tr><td>f64</td><td>f64</td><td>f64</td><td>f64</td><td>f64</td><td>f64</td><td>f64</td><td>f64</td><td>f64</td><td>f64</td><td>f64</td><td>f64</td><td>f64</td><td>f64</td><td>f64</td><td>f64</td><td>f64</td><td>f64</td><td>f64</td><td>f64</td><td>f64</td><td>f64</td><td>f64</td><td>f64</td><td>f64</td><td>f64</td><td>f64</td><td>f64</td><td>f64</td><td>f64</td><td>f64</td><td>f64</td><td>f64</td><td>f64</td><td>f64</td><td>f64</td><td>f64</td><td>f64</td><td>f64</td><td>f64</td></tr></thead><tbody><tr><td>0.0</td><td>0.0</td><td>0.0</td><td>1.0</td><td>1.0</td><td>1.0</td><td>1.0</td><td>1.0</td><td>1.0</td><td>1.0</td><td>0.0</td><td>0.0</td><td>0.0</td><td>0.0</td><td>0.0</td><td>0.0</td><td>0.0</td><td>0.0</td><td>1.0</td><td>0.0</td><td>0.0</td><td>0.0</td><td>1.0</td><td>0.0</td><td>1.0</td><td>0.0</td><td>1.0</td><td>1.0</td><td>1.0</td><td>1.0</td><td>0.0</td><td>1.0</td><td>0.0</td><td>0.0</td><td>0.0</td><td>0.0</td><td>1.0</td><td>1.0</td><td>1.0</td><td>1.0</td></tr></tbody></table></div>"
      ],
      "text/plain": [
       "shape: (1, 40)\n",
       "┌───────────┬───────────┬───────────┬───────────┬───┬───────────┬───────────┬───────────┬──────────┐\n",
       "│ Geopoliti ┆ Geopoliti ┆ Geopoliti ┆ Geopoliti ┆ … ┆ Business  ┆ Business  ┆ Business  ┆ Business │\n",
       "│ cs |      ┆ cs |      ┆ cs |      ┆ cs | Xi   ┆   ┆ & Tech |  ┆ & Tech |  ┆ & Tech |  ┆ & Tech | │\n",
       "│ China     ┆ Russia    ┆ Nuclear   ┆ Jinping   ┆   ┆ The       ┆ Nvidia    ┆ Tim Cook  ┆ Andy     │\n",
       "│ lands     ┆ and       ┆ weapons … ┆ is st…    ┆   ┆ X/Twitte… ┆ remai…    ┆ is …      ┆ Jassy i… │\n",
       "│ grou…     ┆ Ukrai…    ┆ ---       ┆ ---       ┆   ┆ ---       ┆ ---       ┆ ---       ┆ ---      │\n",
       "│ ---       ┆ ---       ┆ f64       ┆ f64       ┆   ┆ f64       ┆ f64       ┆ f64       ┆ f64      │\n",
       "│ f64       ┆ f64       ┆           ┆           ┆   ┆           ┆           ┆           ┆          │\n",
       "╞═══════════╪═══════════╪═══════════╪═══════════╪═══╪═══════════╪═══════════╪═══════════╪══════════╡\n",
       "│ 0.0       ┆ 0.0       ┆ 0.0       ┆ 1.0       ┆ … ┆ 1.0       ┆ 1.0       ┆ 1.0       ┆ 1.0      │\n",
       "└───────────┴───────────┴───────────┴───────────┴───┴───────────┴───────────┴───────────┴──────────┘"
      ]
     },
     "execution_count": 120,
     "metadata": {},
     "output_type": "execute_result"
    }
   ],
   "source": [
    "props = [col for col in raw.columns if col != 'Name']\n",
    "resolutions = pl.DataFrame({prop: float(prop in yes_resolutions) for prop in props})\n",
    "resolutions"
   ]
  },
  {
   "cell_type": "code",
   "execution_count": 121,
   "id": "0ce59740-e965-4dad-a92a-c62ea95f4849",
   "metadata": {},
   "outputs": [
    {
     "data": {
      "text/html": [
       "<div><style>\n",
       ".dataframe > thead > tr,\n",
       ".dataframe > tbody > tr {\n",
       "  text-align: right;\n",
       "  white-space: pre-wrap;\n",
       "}\n",
       "</style>\n",
       "<small>shape: (5, 41)</small><table border=\"1\" class=\"dataframe\"><thead><tr><th>Name</th><th>Geopolitics | China lands ground forces on the island of Taiwan</th><th>Geopolitics | Russia and Ukraine sign a truce to stop all combat operations and honor it until the end of the year</th><th>Geopolitics | Nuclear weapons are used in an attack (not just tested) somewhere in the world.</th><th>Geopolitics | Xi Jinping is still the premier of China at the end of 2024.</th><th>Geopolitics | Narendra Modi is still the prime minister of India at the end of 2024.</th><th>Geopolitics | Benjamin Netanyahu is still the prime minister of Israel at the end of 2024.</th><th>Geopolitics | Vladimir Putin is still the president of Russia at the end of 2024.</th><th>Geopolitics | Vlodymyr Zelenskyy is still the president of Ukraine at the end of 2024.</th><th>Geopolitics | Pope Francis (Jorge Mario Bergoglio) is still the active pope at the end of 2024.</th><th>US Politics | Donald Trump is elected president.</th><th>US Politics | Joe Biden is re-elected president.</th><th>US Politics | A Republican candidate who isn&#x27;t Donald Trump is elected president.</th><th>US Politics | A Democrat candidate who isn&#x27;t Joe Biden is elected president.</th><th>US Politics | At least one third-party US presidential candidate gets 3% or more of the popular vote.</th><th>US Politics | The US president elect dies between the election and the end of 2024.</th><th>US Politics | 2024 elections give Democrats control of the Senate.</th><th>US Politics | 2024 elections give Democrats control of the House of Representatives.</th><th>US Politics | At least one member of the US Supreme Court steps down or dies during 2024.</th><th>US Politics | President Jimmy Carter is still alive at the end of 2024.</th><th>US Politics | Donald Trump is convicted of a federal crime.</th><th>US Politics | Joe Biden is impeached.</th><th>Sports &amp; Culture | Mainstream news outlets report definitively that Taylor Swift and Travis Kelce have broken up.</th><th>Sports &amp; Culture | Taylor Swift releases an album of composed primarily of entirely new music.</th><th>Sports &amp; Culture | LeBron James retires from or otherwise leaves the NBA, and does not change his mind before the end of the year.</th><th>Sports &amp; Culture | LeBron James and his son LeBron Jr (aka &quot;&quot;Bronny&quot;&quot;) are under contract with the same NBA team at any point during 2024.</th><th>Sports &amp; Culture | Lionel Messi retires from or otherwise leaves the MLS, and does not change his mind before the end of the year.</th><th>Sports &amp; Culture | The US wins the most gold medals of any country (or ties for first) in the Paris Olympics.</th><th>Sports &amp; Culture | The US wins the gold medal in basketball at the Paris Olympics.</th><th>Sports &amp; Culture | One of the three championship favorites (Boston Celtics, Denver Nuggets, Milwaukee Bucks) wins the 2024 NBA title.</th><th>Business &amp; Tech | The S&amp;P 500 closes the year higher than it began.</th><th>Business &amp; Tech | The Fed raises interest rates at least once in 2024 (even if they also decrease rates).</th><th>Business &amp; Tech | Sam Altman is still the CEO of OpenAI at the end of 2024.</th><th>Business &amp; Tech | OpenAI releases (or allows a public preview of) a product branded &quot;&quot;GPT-5&quot;&quot; or &quot;&quot;ChatGPT-5&quot;&quot;.</th><th>Business &amp; Tech | Meta is ordered to divest a business unit, by federal court or commission.</th><th>Business &amp; Tech | Amazon is ordered to divest a business unit, by federal court or commission.</th><th>Business &amp; Tech | Alphabet is ordered to divest a business unit, by federal court or commission.</th><th>Business &amp; Tech | The X/Twitter platform still exists at the end of the year: you can log in, share content, and view content.</th><th>Business &amp; Tech | Nvidia remains in the top 10 American companies by market cap at the end of 2024.</th><th>Business &amp; Tech | Tim Cook is still the CEO of Apple at the end of the year.</th><th>Business &amp; Tech | Andy Jassy is still the CEO of Amazon at the end of the year.</th></tr><tr><td>str</td><td>f64</td><td>f64</td><td>f64</td><td>f64</td><td>f64</td><td>f64</td><td>f64</td><td>f64</td><td>f64</td><td>f64</td><td>f64</td><td>f64</td><td>f64</td><td>f64</td><td>f64</td><td>f64</td><td>f64</td><td>f64</td><td>f64</td><td>f64</td><td>f64</td><td>f64</td><td>f64</td><td>f64</td><td>f64</td><td>f64</td><td>f64</td><td>f64</td><td>f64</td><td>f64</td><td>f64</td><td>f64</td><td>f64</td><td>f64</td><td>f64</td><td>f64</td><td>f64</td><td>f64</td><td>f64</td><td>f64</td></tr></thead><tbody><tr><td>&quot;David Schmitz&quot;</td><td>0.03</td><td>0.2</td><td>0.001</td><td>0.995</td><td>0.9</td><td>0.9</td><td>0.97</td><td>0.95</td><td>0.94</td><td>0.4</td><td>0.3</td><td>0.1</td><td>0.2</td><td>0.07</td><td>0.06</td><td>0.6</td><td>0.3</td><td>0.1</td><td>0.02</td><td>0.5</td><td>0.03</td><td>0.4</td><td>0.7</td><td>0.6</td><td>0.09</td><td>0.2</td><td>0.4</td><td>0.8</td><td>0.5</td><td>0.6</td><td>0.5</td><td>0.7</td><td>0.7</td><td>0.05</td><td>0.06</td><td>0.08</td><td>0.96</td><td>0.4</td><td>0.9</td><td>0.7</td></tr><tr><td>&quot;Phil Anderson&quot;</td><td>0.01</td><td>0.1</td><td>0.0001</td><td>0.99</td><td>0.95</td><td>0.99</td><td>0.99</td><td>0.7</td><td>0.7</td><td>0.4999</td><td>0.35</td><td>0.0001</td><td>0.15</td><td>0.9</td><td>0.001</td><td>0.45</td><td>0.3</td><td>0.01</td><td>0.01</td><td>0.05</td><td>0.05</td><td>0.9</td><td>0.9</td><td>0.01</td><td>0.2</td><td>0.05</td><td>0.4</td><td>0.99</td><td>0.3</td><td>0.5</td><td>0.2</td><td>0.98</td><td>0.4</td><td>0.02</td><td>0.02</td><td>0.2</td><td>0.9999</td><td>0.999</td><td>0.999</td><td>0.999</td></tr><tr><td>&quot;Brian Van Fossen&quot;</td><td>0.05</td><td>0.2</td><td>0.01</td><td>0.8</td><td>0.7</td><td>0.7</td><td>0.8</td><td>0.95</td><td>0.8</td><td>0.15</td><td>0.5</td><td>0.25</td><td>0.1</td><td>0.03</td><td>0.05</td><td>0.4</td><td>0.6</td><td>0.3</td><td>0.4</td><td>0.15</td><td>0.05</td><td>0.3</td><td>0.6</td><td>0.5</td><td>0.05</td><td>0.5</td><td>0.95</td><td>0.6</td><td>0.6</td><td>0.75</td><td>0.3</td><td>0.6</td><td>0.5</td><td>0.2</td><td>0.2</td><td>0.2</td><td>0.9</td><td>0.95</td><td>0.9</td><td>0.75</td></tr><tr><td>&quot;Lizz Hyde &quot;</td><td>0.65</td><td>0.15</td><td>0.001</td><td>0.85</td><td>0.85</td><td>0.65</td><td>0.85</td><td>0.55</td><td>0.5</td><td>0.2</td><td>0.6</td><td>0.05</td><td>0.1</td><td>0.45</td><td>0.7</td><td>0.52</td><td>0.58</td><td>0.92</td><td>0.3</td><td>0.85</td><td>0.4</td><td>0.35</td><td>0.95</td><td>0.25</td><td>0.08</td><td>0.5</td><td>0.15</td><td>0.75</td><td>0.75</td><td>0.65</td><td>0.4</td><td>0.9</td><td>0.85</td><td>0.8</td><td>0.7</td><td>0.85</td><td>0.9</td><td>0.75</td><td>0.8</td><td>0.5</td></tr><tr><td>&quot;Average&quot;</td><td>0.103636</td><td>0.259091</td><td>0.015736</td><td>0.937727</td><td>0.895455</td><td>0.708182</td><td>0.905455</td><td>0.840909</td><td>0.837273</td><td>0.386355</td><td>0.463636</td><td>0.091827</td><td>0.073636</td><td>0.400909</td><td>0.111636</td><td>0.442727</td><td>0.525455</td><td>0.338182</td><td>0.157364</td><td>0.527273</td><td>0.200455</td><td>0.545455</td><td>0.545455</td><td>0.229091</td><td>0.179091</td><td>0.222727</td><td>0.62</td><td>0.808182</td><td>0.672727</td><td>0.745455</td><td>0.341818</td><td>0.798182</td><td>0.638182</td><td>0.22</td><td>0.207273</td><td>0.248182</td><td>0.828173</td><td>0.681727</td><td>0.863545</td><td>0.786273</td></tr></tbody></table></div>"
      ],
      "text/plain": [
       "shape: (5, 41)\n",
       "┌───────────┬───────────┬───────────┬───────────┬───┬───────────┬───────────┬───────────┬──────────┐\n",
       "│ Name      ┆ Geopoliti ┆ Geopoliti ┆ Geopoliti ┆ … ┆ Business  ┆ Business  ┆ Business  ┆ Business │\n",
       "│ ---       ┆ cs |      ┆ cs |      ┆ cs |      ┆   ┆ & Tech |  ┆ & Tech |  ┆ & Tech |  ┆ & Tech | │\n",
       "│ str       ┆ China     ┆ Russia    ┆ Nuclear   ┆   ┆ The       ┆ Nvidia    ┆ Tim Cook  ┆ Andy     │\n",
       "│           ┆ lands     ┆ and       ┆ weapons … ┆   ┆ X/Twitte… ┆ remai…    ┆ is …      ┆ Jassy i… │\n",
       "│           ┆ grou…     ┆ Ukrai…    ┆ ---       ┆   ┆ ---       ┆ ---       ┆ ---       ┆ ---      │\n",
       "│           ┆ ---       ┆ ---       ┆ f64       ┆   ┆ f64       ┆ f64       ┆ f64       ┆ f64      │\n",
       "│           ┆ f64       ┆ f64       ┆           ┆   ┆           ┆           ┆           ┆          │\n",
       "╞═══════════╪═══════════╪═══════════╪═══════════╪═══╪═══════════╪═══════════╪═══════════╪══════════╡\n",
       "│ David     ┆ 0.03      ┆ 0.2       ┆ 0.001     ┆ … ┆ 0.96      ┆ 0.4       ┆ 0.9       ┆ 0.7      │\n",
       "│ Schmitz   ┆           ┆           ┆           ┆   ┆           ┆           ┆           ┆          │\n",
       "│ Phil      ┆ 0.01      ┆ 0.1       ┆ 0.0001    ┆ … ┆ 0.9999    ┆ 0.999     ┆ 0.999     ┆ 0.999    │\n",
       "│ Anderson  ┆           ┆           ┆           ┆   ┆           ┆           ┆           ┆          │\n",
       "│ Brian Van ┆ 0.05      ┆ 0.2       ┆ 0.01      ┆ … ┆ 0.9       ┆ 0.95      ┆ 0.9       ┆ 0.75     │\n",
       "│ Fossen    ┆           ┆           ┆           ┆   ┆           ┆           ┆           ┆          │\n",
       "│ Lizz Hyde ┆ 0.65      ┆ 0.15      ┆ 0.001     ┆ … ┆ 0.9       ┆ 0.75      ┆ 0.8       ┆ 0.5      │\n",
       "│ Average   ┆ 0.103636  ┆ 0.259091  ┆ 0.015736  ┆ … ┆ 0.828173  ┆ 0.681727  ┆ 0.863545  ┆ 0.786273 │\n",
       "└───────────┴───────────┴───────────┴───────────┴───┴───────────┴───────────┴───────────┴──────────┘"
      ]
     },
     "execution_count": 121,
     "metadata": {},
     "output_type": "execute_result"
    }
   ],
   "source": [
    "averages = raw.mean()\n",
    "averages = averages.with_columns(pl.lit('Average').alias(\"Name\"))\n",
    "\n",
    "estimates = raw.vstack(averages)\n",
    "estimates.tail()"
   ]
  },
  {
   "cell_type": "code",
   "execution_count": 122,
   "id": "738215ac-d27a-455f-8671-fc7c7680c418",
   "metadata": {},
   "outputs": [],
   "source": [
    "from dataclasses import dataclass\n",
    "from typing import Self\n",
    "\n",
    "@dataclass\n",
    "class Event:\n",
    "    id: str\n",
    "    category: str\n",
    "    proposition: str\n",
    "\n",
    "    @classmethod\n",
    "    def from_id(cls, id: str) -> Self:\n",
    "        category, proposition = id.split(' | ')\n",
    "        return cls(id=id, category=category, proposition=proposition)"
   ]
  },
  {
   "cell_type": "code",
   "execution_count": 123,
   "id": "e686fd3e-4d28-415c-944a-7bc780e9bfc8",
   "metadata": {},
   "outputs": [
    {
     "data": {
      "text/plain": [
       "{'Business & Tech', 'Geopolitics', 'Sports & Culture', 'US Politics'}"
      ]
     },
     "execution_count": 123,
     "metadata": {},
     "output_type": "execute_result"
    }
   ],
   "source": [
    "event_ids = [col for col in estimates.columns if col != 'Name']\n",
    "events = [Event.from_id(event_id) for event_id in event_ids]\n",
    "categories = {event.category for event in events}\n",
    "categories"
   ]
  },
  {
   "cell_type": "markdown",
   "id": "3ea98dd9-b26a-4f2e-8e4f-b89c9def6fb2",
   "metadata": {},
   "source": [
    "Compute Brier scores, both for each category and overall."
   ]
  },
  {
   "cell_type": "code",
   "execution_count": 124,
   "id": "5bdb0119-c9fe-44a6-9dd1-98644111b969",
   "metadata": {},
   "outputs": [],
   "source": [
    "def brier_score(predictions: tuple[float, ...], resolutions: tuple[float, ...]) -> float:\n",
    "    \"\"\"\n",
    "    Given a list of predictions (floats from 0 to 1) and a same-length list of\n",
    "    resolutions (0s and 1s), calculate the Brier score.\n",
    "    \"\"\"\n",
    "    scores = [\n",
    "        (pred - res) ** 2\n",
    "        for pred, res in zip(predictions, resolutions)\n",
    "    ]\n",
    "    return sum(scores) / len(scores)"
   ]
  },
  {
   "cell_type": "code",
   "execution_count": 125,
   "id": "7b4847f3-41e1-4ed3-b844-c728323c1c98",
   "metadata": {},
   "outputs": [],
   "source": [
    "@dataclass\n",
    "class PersonScore:\n",
    "    name: str\n",
    "    category_scores: dict[str, float]\n",
    "    overall_score: float\n",
    "\n",
    "    def to_dict(self) -> dict[str, str | float]:\n",
    "        d = dict(name=self.name, overall_score=self.overall_score)\n",
    "        for cat in self.category_scores:\n",
    "            d[cat] = self.category_scores[cat]\n",
    "        return d"
   ]
  },
  {
   "cell_type": "code",
   "execution_count": 126,
   "id": "082f3d2d-3bbf-42ef-af74-bd884906ac0c",
   "metadata": {},
   "outputs": [],
   "source": [
    "def scores_for_person(name: str) -> PersonScore:\n",
    "    category_scores = {}\n",
    "    predictions = estimates.filter(pl.col('Name') == name)[props]\n",
    "    overall = brier_score(predictions.row(0), resolutions[props].row(0))\n",
    "    for category in categories:\n",
    "        category_props = [prop for prop in props if prop.startswith(category)]\n",
    "        cat_predictions = predictions[category_props].row(0)\n",
    "        cat_resolutions = resolutions[category_props].row(0)\n",
    "        score = brier_score(cat_predictions, cat_resolutions)\n",
    "        category_scores[category] = score\n",
    "    return PersonScore(\n",
    "        name=name,\n",
    "        category_scores=category_scores,\n",
    "        overall_score=overall,\n",
    "    )\n",
    "\n",
    "people = estimates['Name']\n",
    "scores = [scores_for_person(person) for person in people]"
   ]
  },
  {
   "cell_type": "code",
   "execution_count": 127,
   "id": "38007219-b11e-4baa-9926-8c3a4d46725b",
   "metadata": {},
   "outputs": [
    {
     "data": {
      "text/html": [
       "<div><style>\n",
       ".dataframe > thead > tr,\n",
       ".dataframe > tbody > tr {\n",
       "  text-align: right;\n",
       "  white-space: pre-wrap;\n",
       "}\n",
       "</style>\n",
       "<small>shape: (12, 6)</small><table border=\"1\" class=\"dataframe\"><thead><tr><th>name</th><th>overall_score</th><th>Sports &amp; Culture</th><th>Geopolitics</th><th>US Politics</th><th>Business &amp; Tech</th></tr><tr><td>str</td><td>f64</td><td>f64</td><td>f64</td><td>f64</td><td>f64</td></tr></thead><tbody><tr><td>&quot;Raluca Pavel&quot;</td><td>0.2280525</td><td>0.246175</td><td>0.015567</td><td>0.361942</td><td>0.242664</td></tr><tr><td>&quot;Ethan Swan&quot;</td><td>0.132155</td><td>0.19375</td><td>0.070978</td><td>0.168467</td><td>0.0978</td></tr><tr><td>&quot;Tommy Callan&quot;</td><td>0.23325</td><td>0.2890625</td><td>0.072222</td><td>0.479583</td><td>0.055682</td></tr><tr><td>&quot;Greg Moore&quot;</td><td>0.144198</td><td>0.216825</td><td>0.008622</td><td>0.210733</td><td>0.129718</td></tr><tr><td>&quot;Abhisek Gupta&quot;</td><td>0.172653</td><td>0.235025</td><td>0.135011</td><td>0.22735</td><td>0.098418</td></tr><tr><td>&hellip;</td><td>&hellip;</td><td>&hellip;</td><td>&hellip;</td><td>&hellip;</td><td>&hellip;</td></tr><tr><td>&quot;David Schmitz&quot;</td><td>0.145998</td><td>0.2660125</td><td>0.007547</td><td>0.18165</td><td>0.1331</td></tr><tr><td>&quot;Phil Anderson&quot;</td><td>0.13699</td><td>0.2890875</td><td>0.021433</td><td>0.2069</td><td>0.044655</td></tr><tr><td>&quot;Brian Van Fossen&quot;</td><td>0.128275</td><td>0.246875</td><td>0.038344</td><td>0.170283</td><td>0.069773</td></tr><tr><td>&quot;Lizz Hyde &quot;</td><td>0.27449</td><td>0.266425</td><td>0.120833</td><td>0.377558</td><td>0.293636</td></tr><tr><td>&quot;Average&quot;</td><td>0.129455</td><td>0.196052</td><td>0.026535</td><td>0.19944</td><td>0.088883</td></tr></tbody></table></div>"
      ],
      "text/plain": [
       "shape: (12, 6)\n",
       "┌──────────────────┬───────────────┬───────────┬─────────────┬─────────────┬─────────────────┐\n",
       "│ name             ┆ overall_score ┆ Sports &  ┆ Geopolitics ┆ US Politics ┆ Business & Tech │\n",
       "│ ---              ┆ ---           ┆ Culture   ┆ ---         ┆ ---         ┆ ---             │\n",
       "│ str              ┆ f64           ┆ ---       ┆ f64         ┆ f64         ┆ f64             │\n",
       "│                  ┆               ┆ f64       ┆             ┆             ┆                 │\n",
       "╞══════════════════╪═══════════════╪═══════════╪═════════════╪═════════════╪═════════════════╡\n",
       "│ Raluca Pavel     ┆ 0.2280525     ┆ 0.246175  ┆ 0.015567    ┆ 0.361942    ┆ 0.242664        │\n",
       "│ Ethan Swan       ┆ 0.132155      ┆ 0.19375   ┆ 0.070978    ┆ 0.168467    ┆ 0.0978          │\n",
       "│ Tommy Callan     ┆ 0.23325       ┆ 0.2890625 ┆ 0.072222    ┆ 0.479583    ┆ 0.055682        │\n",
       "│ Greg Moore       ┆ 0.144198      ┆ 0.216825  ┆ 0.008622    ┆ 0.210733    ┆ 0.129718        │\n",
       "│ Abhisek Gupta    ┆ 0.172653      ┆ 0.235025  ┆ 0.135011    ┆ 0.22735     ┆ 0.098418        │\n",
       "│ …                ┆ …             ┆ …         ┆ …           ┆ …           ┆ …               │\n",
       "│ David Schmitz    ┆ 0.145998      ┆ 0.2660125 ┆ 0.007547    ┆ 0.18165     ┆ 0.1331          │\n",
       "│ Phil Anderson    ┆ 0.13699       ┆ 0.2890875 ┆ 0.021433    ┆ 0.2069      ┆ 0.044655        │\n",
       "│ Brian Van Fossen ┆ 0.128275      ┆ 0.246875  ┆ 0.038344    ┆ 0.170283    ┆ 0.069773        │\n",
       "│ Lizz Hyde        ┆ 0.27449       ┆ 0.266425  ┆ 0.120833    ┆ 0.377558    ┆ 0.293636        │\n",
       "│ Average          ┆ 0.129455      ┆ 0.196052  ┆ 0.026535    ┆ 0.19944     ┆ 0.088883        │\n",
       "└──────────────────┴───────────────┴───────────┴─────────────┴─────────────┴─────────────────┘"
      ]
     },
     "execution_count": 127,
     "metadata": {},
     "output_type": "execute_result"
    }
   ],
   "source": [
    "data = pl.DataFrame(score.to_dict() for score in scores)\n",
    "data"
   ]
  },
  {
   "cell_type": "code",
   "execution_count": 128,
   "id": "3251ceef-1535-4f7a-b67f-f2d4b128534c",
   "metadata": {},
   "outputs": [
    {
     "data": {
      "text/html": [
       "\n",
       "<style>\n",
       "  #altair-viz-4a0ff1edc460458cb7e09d00f758e943.vega-embed {\n",
       "    width: 100%;\n",
       "    display: flex;\n",
       "  }\n",
       "\n",
       "  #altair-viz-4a0ff1edc460458cb7e09d00f758e943.vega-embed details,\n",
       "  #altair-viz-4a0ff1edc460458cb7e09d00f758e943.vega-embed details summary {\n",
       "    position: relative;\n",
       "  }\n",
       "</style>\n",
       "<div id=\"altair-viz-4a0ff1edc460458cb7e09d00f758e943\"></div>\n",
       "<script type=\"text/javascript\">\n",
       "  var VEGA_DEBUG = (typeof VEGA_DEBUG == \"undefined\") ? {} : VEGA_DEBUG;\n",
       "  (function(spec, embedOpt){\n",
       "    let outputDiv = document.currentScript.previousElementSibling;\n",
       "    if (outputDiv.id !== \"altair-viz-4a0ff1edc460458cb7e09d00f758e943\") {\n",
       "      outputDiv = document.getElementById(\"altair-viz-4a0ff1edc460458cb7e09d00f758e943\");\n",
       "    }\n",
       "    const paths = {\n",
       "      \"vega\": \"https://cdn.jsdelivr.net/npm/vega@5?noext\",\n",
       "      \"vega-lib\": \"https://cdn.jsdelivr.net/npm/vega-lib?noext\",\n",
       "      \"vega-lite\": \"https://cdn.jsdelivr.net/npm/vega-lite@5.20.1?noext\",\n",
       "      \"vega-embed\": \"https://cdn.jsdelivr.net/npm/vega-embed@6?noext\",\n",
       "    };\n",
       "\n",
       "    function maybeLoadScript(lib, version) {\n",
       "      var key = `${lib.replace(\"-\", \"\")}_version`;\n",
       "      return (VEGA_DEBUG[key] == version) ?\n",
       "        Promise.resolve(paths[lib]) :\n",
       "        new Promise(function(resolve, reject) {\n",
       "          var s = document.createElement('script');\n",
       "          document.getElementsByTagName(\"head\")[0].appendChild(s);\n",
       "          s.async = true;\n",
       "          s.onload = () => {\n",
       "            VEGA_DEBUG[key] = version;\n",
       "            return resolve(paths[lib]);\n",
       "          };\n",
       "          s.onerror = () => reject(`Error loading script: ${paths[lib]}`);\n",
       "          s.src = paths[lib];\n",
       "        });\n",
       "    }\n",
       "\n",
       "    function showError(err) {\n",
       "      outputDiv.innerHTML = `<div class=\"error\" style=\"color:red;\">${err}</div>`;\n",
       "      throw err;\n",
       "    }\n",
       "\n",
       "    function displayChart(vegaEmbed) {\n",
       "      vegaEmbed(outputDiv, spec, embedOpt)\n",
       "        .catch(err => showError(`Javascript Error: ${err.message}<br>This usually means there's a typo in your chart specification. See the javascript console for the full traceback.`));\n",
       "    }\n",
       "\n",
       "    if(typeof define === \"function\" && define.amd) {\n",
       "      requirejs.config({paths});\n",
       "      require([\"vega-embed\"], displayChart, err => showError(`Error loading script: ${err.message}`));\n",
       "    } else {\n",
       "      maybeLoadScript(\"vega\", \"5\")\n",
       "        .then(() => maybeLoadScript(\"vega-lite\", \"5.20.1\"))\n",
       "        .then(() => maybeLoadScript(\"vega-embed\", \"6\"))\n",
       "        .catch(showError)\n",
       "        .then(() => displayChart(vegaEmbed));\n",
       "    }\n",
       "  })({\"config\": {\"view\": {\"continuousWidth\": 300, \"continuousHeight\": 300}}, \"data\": {\"name\": \"data-9ecf4f20ea601044c805e98ec9403edd\"}, \"mark\": {\"type\": \"bar\"}, \"encoding\": {\"color\": {\"condition\": {\"test\": \"(datum.name === 'Average')\", \"value\": \"orange\"}, \"value\": \"blue\"}, \"x\": {\"field\": \"name\", \"sort\": \"y\", \"type\": \"nominal\"}, \"y\": {\"field\": \"overall_score\", \"type\": \"quantitative\"}}, \"title\": \"Overall Score\", \"$schema\": \"https://vega.github.io/schema/vega-lite/v5.20.1.json\", \"datasets\": {\"data-9ecf4f20ea601044c805e98ec9403edd\": [{\"name\": \"Raluca Pavel\", \"overall_score\": 0.2280525, \"Sports & Culture\": 0.246175, \"Geopolitics\": 0.015566666666666664, \"US Politics\": 0.36194166666666666, \"Business & Tech\": 0.24266363636363633}, {\"name\": \"Ethan Swan\", \"overall_score\": 0.132155, \"Sports & Culture\": 0.19375, \"Geopolitics\": 0.07097777777777778, \"US Politics\": 0.16846666666666668, \"Business & Tech\": 0.09780000000000001}, {\"name\": \"Tommy Callan\", \"overall_score\": 0.23325, \"Sports & Culture\": 0.2890625, \"Geopolitics\": 0.07222222222222224, \"US Politics\": 0.4795833333333333, \"Business & Tech\": 0.05568181818181817}, {\"name\": \"Greg Moore\", \"overall_score\": 0.144197525, \"Sports & Culture\": 0.21682500000000002, \"Geopolitics\": 0.008622222222222219, \"US Politics\": 0.21073341666666667, \"Business & Tech\": 0.12971818181818182}, {\"name\": \"Abhisek Gupta\", \"overall_score\": 0.172652575, \"Sports & Culture\": 0.235025, \"Geopolitics\": 0.13501122222222223, \"US Politics\": 0.22735016666666666, \"Business & Tech\": 0.09841818181818182}, {\"name\": \"Fernando Garcia\", \"overall_score\": 0.12448250000000001, \"Sports & Culture\": 0.18, \"Geopolitics\": 0.04713333333333333, \"US Politics\": 0.15959166666666666, \"Business & Tech\": 0.10909090909090909}, {\"name\": \"Alex Van Fossen \", \"overall_score\": 0.15230125, \"Sports & Culture\": 0.263125, \"Geopolitics\": 0.009933333333333334, \"US Politics\": 0.20147083333333335, \"Business & Tech\": 0.13454545454545452}, {\"name\": \"David Schmitz\", \"overall_score\": 0.14599815, \"Sports & Culture\": 0.2660125, \"Geopolitics\": 0.007547333333333335, \"US Politics\": 0.18164999999999998, \"Business & Tech\": 0.1331}, {\"name\": \"Phil Anderson\", \"overall_score\": 0.136990101, \"Sports & Culture\": 0.2890875, \"Geopolitics\": 0.021433334444444452, \"US Politics\": 0.206900085, \"Business & Tech\": 0.0446548190909091}, {\"name\": \"Brian Van Fossen\", \"overall_score\": 0.128275, \"Sports & Culture\": 0.246875, \"Geopolitics\": 0.038344444444444445, \"US Politics\": 0.17028333333333334, \"Business & Tech\": 0.06977272727272728}, {\"name\": \"Lizz Hyde \", \"overall_score\": 0.274490025, \"Sports & Culture\": 0.26642499999999997, \"Geopolitics\": 0.12083344444444445, \"US Politics\": 0.3775583333333334, \"Business & Tech\": 0.29363636363636364}, {\"name\": \"Average\", \"overall_score\": 0.12945549414049587, \"Sports & Culture\": 0.19605196280991735, \"Geopolitics\": 0.02653451662993571, \"US Politics\": 0.19943968458677686, \"Business & Tech\": 0.088883381675432}]}}, {\"mode\": \"vega-lite\"});\n",
       "</script>"
      ],
      "text/plain": [
       "alt.Chart(...)"
      ]
     },
     "execution_count": 128,
     "metadata": {},
     "output_type": "execute_result"
    }
   ],
   "source": [
    "import altair as alt\n",
    "\n",
    "alt.Chart(data).mark_bar().encode(\n",
    "    x=alt.X('name', sort='y'),\n",
    "    y='overall_score',\n",
    "    color=alt.condition(\n",
    "        alt.datum.name == 'Average',\n",
    "        alt.value('orange'),\n",
    "        alt.value('blue'),\n",
    "    ),\n",
    ").properties(title='Overall Score')"
   ]
  },
  {
   "cell_type": "code",
   "execution_count": 129,
   "id": "06eb8c1c-8a63-42f5-bb17-15ef7f59cf87",
   "metadata": {},
   "outputs": [
    {
     "data": {
      "text/html": [
       "\n",
       "<style>\n",
       "  #altair-viz-28c6877872d041069b47d6b3f4925411.vega-embed {\n",
       "    width: 100%;\n",
       "    display: flex;\n",
       "  }\n",
       "\n",
       "  #altair-viz-28c6877872d041069b47d6b3f4925411.vega-embed details,\n",
       "  #altair-viz-28c6877872d041069b47d6b3f4925411.vega-embed details summary {\n",
       "    position: relative;\n",
       "  }\n",
       "</style>\n",
       "<div id=\"altair-viz-28c6877872d041069b47d6b3f4925411\"></div>\n",
       "<script type=\"text/javascript\">\n",
       "  var VEGA_DEBUG = (typeof VEGA_DEBUG == \"undefined\") ? {} : VEGA_DEBUG;\n",
       "  (function(spec, embedOpt){\n",
       "    let outputDiv = document.currentScript.previousElementSibling;\n",
       "    if (outputDiv.id !== \"altair-viz-28c6877872d041069b47d6b3f4925411\") {\n",
       "      outputDiv = document.getElementById(\"altair-viz-28c6877872d041069b47d6b3f4925411\");\n",
       "    }\n",
       "    const paths = {\n",
       "      \"vega\": \"https://cdn.jsdelivr.net/npm/vega@5?noext\",\n",
       "      \"vega-lib\": \"https://cdn.jsdelivr.net/npm/vega-lib?noext\",\n",
       "      \"vega-lite\": \"https://cdn.jsdelivr.net/npm/vega-lite@5.20.1?noext\",\n",
       "      \"vega-embed\": \"https://cdn.jsdelivr.net/npm/vega-embed@6?noext\",\n",
       "    };\n",
       "\n",
       "    function maybeLoadScript(lib, version) {\n",
       "      var key = `${lib.replace(\"-\", \"\")}_version`;\n",
       "      return (VEGA_DEBUG[key] == version) ?\n",
       "        Promise.resolve(paths[lib]) :\n",
       "        new Promise(function(resolve, reject) {\n",
       "          var s = document.createElement('script');\n",
       "          document.getElementsByTagName(\"head\")[0].appendChild(s);\n",
       "          s.async = true;\n",
       "          s.onload = () => {\n",
       "            VEGA_DEBUG[key] = version;\n",
       "            return resolve(paths[lib]);\n",
       "          };\n",
       "          s.onerror = () => reject(`Error loading script: ${paths[lib]}`);\n",
       "          s.src = paths[lib];\n",
       "        });\n",
       "    }\n",
       "\n",
       "    function showError(err) {\n",
       "      outputDiv.innerHTML = `<div class=\"error\" style=\"color:red;\">${err}</div>`;\n",
       "      throw err;\n",
       "    }\n",
       "\n",
       "    function displayChart(vegaEmbed) {\n",
       "      vegaEmbed(outputDiv, spec, embedOpt)\n",
       "        .catch(err => showError(`Javascript Error: ${err.message}<br>This usually means there's a typo in your chart specification. See the javascript console for the full traceback.`));\n",
       "    }\n",
       "\n",
       "    if(typeof define === \"function\" && define.amd) {\n",
       "      requirejs.config({paths});\n",
       "      require([\"vega-embed\"], displayChart, err => showError(`Error loading script: ${err.message}`));\n",
       "    } else {\n",
       "      maybeLoadScript(\"vega\", \"5\")\n",
       "        .then(() => maybeLoadScript(\"vega-lite\", \"5.20.1\"))\n",
       "        .then(() => maybeLoadScript(\"vega-embed\", \"6\"))\n",
       "        .catch(showError)\n",
       "        .then(() => displayChart(vegaEmbed));\n",
       "    }\n",
       "  })({\"config\": {\"view\": {\"continuousWidth\": 300, \"continuousHeight\": 300}}, \"hconcat\": [{\"mark\": {\"type\": \"bar\"}, \"encoding\": {\"color\": {\"condition\": {\"test\": \"(datum.name === 'Average')\", \"value\": \"orange\"}, \"value\": \"blue\"}, \"x\": {\"field\": \"name\", \"sort\": \"y\", \"type\": \"nominal\"}, \"y\": {\"field\": \"Sports & Culture\", \"type\": \"quantitative\"}}, \"title\": \"Sports & Culture\"}, {\"mark\": {\"type\": \"bar\"}, \"encoding\": {\"color\": {\"condition\": {\"test\": \"(datum.name === 'Average')\", \"value\": \"orange\"}, \"value\": \"blue\"}, \"x\": {\"field\": \"name\", \"sort\": \"y\", \"type\": \"nominal\"}, \"y\": {\"field\": \"Geopolitics\", \"type\": \"quantitative\"}}, \"title\": \"Geopolitics\"}, {\"mark\": {\"type\": \"bar\"}, \"encoding\": {\"color\": {\"condition\": {\"test\": \"(datum.name === 'Average')\", \"value\": \"orange\"}, \"value\": \"blue\"}, \"x\": {\"field\": \"name\", \"sort\": \"y\", \"type\": \"nominal\"}, \"y\": {\"field\": \"US Politics\", \"type\": \"quantitative\"}}, \"title\": \"US Politics\"}, {\"mark\": {\"type\": \"bar\"}, \"encoding\": {\"color\": {\"condition\": {\"test\": \"(datum.name === 'Average')\", \"value\": \"orange\"}, \"value\": \"blue\"}, \"x\": {\"field\": \"name\", \"sort\": \"y\", \"type\": \"nominal\"}, \"y\": {\"field\": \"Business & Tech\", \"type\": \"quantitative\"}}, \"title\": \"Business & Tech\"}], \"data\": {\"name\": \"data-9ecf4f20ea601044c805e98ec9403edd\"}, \"$schema\": \"https://vega.github.io/schema/vega-lite/v5.20.1.json\", \"datasets\": {\"data-9ecf4f20ea601044c805e98ec9403edd\": [{\"name\": \"Raluca Pavel\", \"overall_score\": 0.2280525, \"Sports & Culture\": 0.246175, \"Geopolitics\": 0.015566666666666664, \"US Politics\": 0.36194166666666666, \"Business & Tech\": 0.24266363636363633}, {\"name\": \"Ethan Swan\", \"overall_score\": 0.132155, \"Sports & Culture\": 0.19375, \"Geopolitics\": 0.07097777777777778, \"US Politics\": 0.16846666666666668, \"Business & Tech\": 0.09780000000000001}, {\"name\": \"Tommy Callan\", \"overall_score\": 0.23325, \"Sports & Culture\": 0.2890625, \"Geopolitics\": 0.07222222222222224, \"US Politics\": 0.4795833333333333, \"Business & Tech\": 0.05568181818181817}, {\"name\": \"Greg Moore\", \"overall_score\": 0.144197525, \"Sports & Culture\": 0.21682500000000002, \"Geopolitics\": 0.008622222222222219, \"US Politics\": 0.21073341666666667, \"Business & Tech\": 0.12971818181818182}, {\"name\": \"Abhisek Gupta\", \"overall_score\": 0.172652575, \"Sports & Culture\": 0.235025, \"Geopolitics\": 0.13501122222222223, \"US Politics\": 0.22735016666666666, \"Business & Tech\": 0.09841818181818182}, {\"name\": \"Fernando Garcia\", \"overall_score\": 0.12448250000000001, \"Sports & Culture\": 0.18, \"Geopolitics\": 0.04713333333333333, \"US Politics\": 0.15959166666666666, \"Business & Tech\": 0.10909090909090909}, {\"name\": \"Alex Van Fossen \", \"overall_score\": 0.15230125, \"Sports & Culture\": 0.263125, \"Geopolitics\": 0.009933333333333334, \"US Politics\": 0.20147083333333335, \"Business & Tech\": 0.13454545454545452}, {\"name\": \"David Schmitz\", \"overall_score\": 0.14599815, \"Sports & Culture\": 0.2660125, \"Geopolitics\": 0.007547333333333335, \"US Politics\": 0.18164999999999998, \"Business & Tech\": 0.1331}, {\"name\": \"Phil Anderson\", \"overall_score\": 0.136990101, \"Sports & Culture\": 0.2890875, \"Geopolitics\": 0.021433334444444452, \"US Politics\": 0.206900085, \"Business & Tech\": 0.0446548190909091}, {\"name\": \"Brian Van Fossen\", \"overall_score\": 0.128275, \"Sports & Culture\": 0.246875, \"Geopolitics\": 0.038344444444444445, \"US Politics\": 0.17028333333333334, \"Business & Tech\": 0.06977272727272728}, {\"name\": \"Lizz Hyde \", \"overall_score\": 0.274490025, \"Sports & Culture\": 0.26642499999999997, \"Geopolitics\": 0.12083344444444445, \"US Politics\": 0.3775583333333334, \"Business & Tech\": 0.29363636363636364}, {\"name\": \"Average\", \"overall_score\": 0.12945549414049587, \"Sports & Culture\": 0.19605196280991735, \"Geopolitics\": 0.02653451662993571, \"US Politics\": 0.19943968458677686, \"Business & Tech\": 0.088883381675432}]}}, {\"mode\": \"vega-lite\"});\n",
       "</script>"
      ],
      "text/plain": [
       "alt.HConcatChart(...)"
      ]
     },
     "execution_count": 129,
     "metadata": {},
     "output_type": "execute_result"
    }
   ],
   "source": [
    "cat_charts = []\n",
    "for category in categories:\n",
    "    chart = alt.Chart(data).mark_bar().encode(\n",
    "        x=alt.X('name', sort='y'),\n",
    "        y=category,\n",
    "        color=alt.condition(\n",
    "            alt.datum.name == 'Average',\n",
    "            alt.value('orange'),\n",
    "            alt.value('blue'),\n",
    "        ),\n",
    "    ).properties(title=category)\n",
    "    cat_charts.append(chart)\n",
    "\n",
    "from functools import reduce\n",
    "reduce(lambda a, b: a | b, cat_charts)"
   ]
  },
  {
   "cell_type": "markdown",
   "id": "7861edb7-1c64-48c8-81fc-1a792be93d45",
   "metadata": {},
   "source": [
    "Score contributions"
   ]
  },
  {
   "cell_type": "code",
   "execution_count": 131,
   "id": "0a07a9b4-e6b6-49b6-8afd-3fa539a0a543",
   "metadata": {},
   "outputs": [
    {
     "data": {
      "text/html": [
       "\n",
       "<style>\n",
       "  #altair-viz-75f04fe70f69482faf25e5e822c8e790.vega-embed {\n",
       "    width: 100%;\n",
       "    display: flex;\n",
       "  }\n",
       "\n",
       "  #altair-viz-75f04fe70f69482faf25e5e822c8e790.vega-embed details,\n",
       "  #altair-viz-75f04fe70f69482faf25e5e822c8e790.vega-embed details summary {\n",
       "    position: relative;\n",
       "  }\n",
       "</style>\n",
       "<div id=\"altair-viz-75f04fe70f69482faf25e5e822c8e790\"></div>\n",
       "<script type=\"text/javascript\">\n",
       "  var VEGA_DEBUG = (typeof VEGA_DEBUG == \"undefined\") ? {} : VEGA_DEBUG;\n",
       "  (function(spec, embedOpt){\n",
       "    let outputDiv = document.currentScript.previousElementSibling;\n",
       "    if (outputDiv.id !== \"altair-viz-75f04fe70f69482faf25e5e822c8e790\") {\n",
       "      outputDiv = document.getElementById(\"altair-viz-75f04fe70f69482faf25e5e822c8e790\");\n",
       "    }\n",
       "    const paths = {\n",
       "      \"vega\": \"https://cdn.jsdelivr.net/npm/vega@5?noext\",\n",
       "      \"vega-lib\": \"https://cdn.jsdelivr.net/npm/vega-lib?noext\",\n",
       "      \"vega-lite\": \"https://cdn.jsdelivr.net/npm/vega-lite@5.20.1?noext\",\n",
       "      \"vega-embed\": \"https://cdn.jsdelivr.net/npm/vega-embed@6?noext\",\n",
       "    };\n",
       "\n",
       "    function maybeLoadScript(lib, version) {\n",
       "      var key = `${lib.replace(\"-\", \"\")}_version`;\n",
       "      return (VEGA_DEBUG[key] == version) ?\n",
       "        Promise.resolve(paths[lib]) :\n",
       "        new Promise(function(resolve, reject) {\n",
       "          var s = document.createElement('script');\n",
       "          document.getElementsByTagName(\"head\")[0].appendChild(s);\n",
       "          s.async = true;\n",
       "          s.onload = () => {\n",
       "            VEGA_DEBUG[key] = version;\n",
       "            return resolve(paths[lib]);\n",
       "          };\n",
       "          s.onerror = () => reject(`Error loading script: ${paths[lib]}`);\n",
       "          s.src = paths[lib];\n",
       "        });\n",
       "    }\n",
       "\n",
       "    function showError(err) {\n",
       "      outputDiv.innerHTML = `<div class=\"error\" style=\"color:red;\">${err}</div>`;\n",
       "      throw err;\n",
       "    }\n",
       "\n",
       "    function displayChart(vegaEmbed) {\n",
       "      vegaEmbed(outputDiv, spec, embedOpt)\n",
       "        .catch(err => showError(`Javascript Error: ${err.message}<br>This usually means there's a typo in your chart specification. See the javascript console for the full traceback.`));\n",
       "    }\n",
       "\n",
       "    if(typeof define === \"function\" && define.amd) {\n",
       "      requirejs.config({paths});\n",
       "      require([\"vega-embed\"], displayChart, err => showError(`Error loading script: ${err.message}`));\n",
       "    } else {\n",
       "      maybeLoadScript(\"vega\", \"5\")\n",
       "        .then(() => maybeLoadScript(\"vega-lite\", \"5.20.1\"))\n",
       "        .then(() => maybeLoadScript(\"vega-embed\", \"6\"))\n",
       "        .catch(showError)\n",
       "        .then(() => displayChart(vegaEmbed));\n",
       "    }\n",
       "  })({\"config\": {\"view\": {\"continuousWidth\": 300, \"continuousHeight\": 300}}, \"vconcat\": [{\"hconcat\": [{\"data\": {\"name\": \"data-d1dfda95fc9706f53ff1b9926f3014c9\"}, \"mark\": {\"type\": \"bar\"}, \"encoding\": {\"tooltip\": [{\"field\": \"prop\", \"type\": \"nominal\"}, {\"field\": \"value\", \"type\": \"quantitative\"}], \"x\": {\"field\": \"value\", \"scale\": {\"domain\": [0, 1]}, \"type\": \"quantitative\"}, \"y\": {\"field\": \"prop\", \"sort\": \"-x\", \"type\": \"nominal\"}}, \"title\": \"Raluca Pavel\"}, {\"data\": {\"name\": \"data-32e7adc710423e949bb8e73720bf8fd6\"}, \"mark\": {\"type\": \"bar\"}, \"encoding\": {\"tooltip\": [{\"field\": \"prop\", \"type\": \"nominal\"}, {\"field\": \"value\", \"type\": \"quantitative\"}], \"x\": {\"field\": \"value\", \"scale\": {\"domain\": [0, 1]}, \"type\": \"quantitative\"}, \"y\": {\"field\": \"prop\", \"sort\": \"-x\", \"type\": \"nominal\"}}, \"title\": \"Ethan Swan\"}, {\"data\": {\"name\": \"data-3b502a21ed35f71d775031213cff1d15\"}, \"mark\": {\"type\": \"bar\"}, \"encoding\": {\"tooltip\": [{\"field\": \"prop\", \"type\": \"nominal\"}, {\"field\": \"value\", \"type\": \"quantitative\"}], \"x\": {\"field\": \"value\", \"scale\": {\"domain\": [0, 1]}, \"type\": \"quantitative\"}, \"y\": {\"field\": \"prop\", \"sort\": \"-x\", \"type\": \"nominal\"}}, \"title\": \"Tommy Callan\"}]}, {\"hconcat\": [{\"data\": {\"name\": \"data-706d21c2da11aa26cf6b4c637ab507f9\"}, \"mark\": {\"type\": \"bar\"}, \"encoding\": {\"tooltip\": [{\"field\": \"prop\", \"type\": \"nominal\"}, {\"field\": \"value\", \"type\": \"quantitative\"}], \"x\": {\"field\": \"value\", \"scale\": {\"domain\": [0, 1]}, \"type\": \"quantitative\"}, \"y\": {\"field\": \"prop\", \"sort\": \"-x\", \"type\": \"nominal\"}}, \"title\": \"Greg Moore\"}, {\"data\": {\"name\": \"data-226953f2173a4e50d15ecbe1faf57102\"}, \"mark\": {\"type\": \"bar\"}, \"encoding\": {\"tooltip\": [{\"field\": \"prop\", \"type\": \"nominal\"}, {\"field\": \"value\", \"type\": \"quantitative\"}], \"x\": {\"field\": \"value\", \"scale\": {\"domain\": [0, 1]}, \"type\": \"quantitative\"}, \"y\": {\"field\": \"prop\", \"sort\": \"-x\", \"type\": \"nominal\"}}, \"title\": \"Abhisek Gupta\"}, {\"data\": {\"name\": \"data-f97653dcd26395e89ea814cae2361da5\"}, \"mark\": {\"type\": \"bar\"}, \"encoding\": {\"tooltip\": [{\"field\": \"prop\", \"type\": \"nominal\"}, {\"field\": \"value\", \"type\": \"quantitative\"}], \"x\": {\"field\": \"value\", \"scale\": {\"domain\": [0, 1]}, \"type\": \"quantitative\"}, \"y\": {\"field\": \"prop\", \"sort\": \"-x\", \"type\": \"nominal\"}}, \"title\": \"Fernando Garcia\"}]}, {\"hconcat\": [{\"data\": {\"name\": \"data-cf5d0b0d4f0b0d881acb85a1d9d9e02a\"}, \"mark\": {\"type\": \"bar\"}, \"encoding\": {\"tooltip\": [{\"field\": \"prop\", \"type\": \"nominal\"}, {\"field\": \"value\", \"type\": \"quantitative\"}], \"x\": {\"field\": \"value\", \"scale\": {\"domain\": [0, 1]}, \"type\": \"quantitative\"}, \"y\": {\"field\": \"prop\", \"sort\": \"-x\", \"type\": \"nominal\"}}, \"title\": \"Alex Van Fossen \"}, {\"data\": {\"name\": \"data-0ff022e9c550f63c0cb70205a10666e1\"}, \"mark\": {\"type\": \"bar\"}, \"encoding\": {\"tooltip\": [{\"field\": \"prop\", \"type\": \"nominal\"}, {\"field\": \"value\", \"type\": \"quantitative\"}], \"x\": {\"field\": \"value\", \"scale\": {\"domain\": [0, 1]}, \"type\": \"quantitative\"}, \"y\": {\"field\": \"prop\", \"sort\": \"-x\", \"type\": \"nominal\"}}, \"title\": \"David Schmitz\"}, {\"data\": {\"name\": \"data-c80ec3bce0d43aa34f6f19a896172442\"}, \"mark\": {\"type\": \"bar\"}, \"encoding\": {\"tooltip\": [{\"field\": \"prop\", \"type\": \"nominal\"}, {\"field\": \"value\", \"type\": \"quantitative\"}], \"x\": {\"field\": \"value\", \"scale\": {\"domain\": [0, 1]}, \"type\": \"quantitative\"}, \"y\": {\"field\": \"prop\", \"sort\": \"-x\", \"type\": \"nominal\"}}, \"title\": \"Phil Anderson\"}]}, {\"hconcat\": [{\"data\": {\"name\": \"data-2262632cf0289b48cc0043585ebf7ac6\"}, \"mark\": {\"type\": \"bar\"}, \"encoding\": {\"tooltip\": [{\"field\": \"prop\", \"type\": \"nominal\"}, {\"field\": \"value\", \"type\": \"quantitative\"}], \"x\": {\"field\": \"value\", \"scale\": {\"domain\": [0, 1]}, \"type\": \"quantitative\"}, \"y\": {\"field\": \"prop\", \"sort\": \"-x\", \"type\": \"nominal\"}}, \"title\": \"Brian Van Fossen\"}, {\"data\": {\"name\": \"data-c42902965bf79c12d76673907244f177\"}, \"mark\": {\"type\": \"bar\"}, \"encoding\": {\"tooltip\": [{\"field\": \"prop\", \"type\": \"nominal\"}, {\"field\": \"value\", \"type\": \"quantitative\"}], \"x\": {\"field\": \"value\", \"scale\": {\"domain\": [0, 1]}, \"type\": \"quantitative\"}, \"y\": {\"field\": \"prop\", \"sort\": \"-x\", \"type\": \"nominal\"}}, \"title\": \"Lizz Hyde \"}, {\"data\": {\"name\": \"data-b7c644ad640508c59629f96cd85a5026\"}, \"mark\": {\"type\": \"bar\"}, \"encoding\": {\"tooltip\": [{\"field\": \"prop\", \"type\": \"nominal\"}, {\"field\": \"value\", \"type\": \"quantitative\"}], \"x\": {\"field\": \"value\", \"scale\": {\"domain\": [0, 1]}, \"type\": \"quantitative\"}, \"y\": {\"field\": \"prop\", \"sort\": \"-x\", \"type\": \"nominal\"}}, \"title\": \"Average\"}]}], \"$schema\": \"https://vega.github.io/schema/vega-lite/v5.20.1.json\", \"datasets\": {\"data-d1dfda95fc9706f53ff1b9926f3014c9\": [{\"prop\": \"Geopolitics | Nuclear weapons are used in an attack (not just tested) somewhere in the world.\", \"value\": 0.0}, {\"prop\": \"Geopolitics | Xi Jinping is still the premier of China at the end of 2024.\", \"value\": 0.0}, {\"prop\": \"Geopolitics | Narendra Modi is still the prime minister of India at the end of 2024.\", \"value\": 0.0}, {\"prop\": \"Geopolitics | Vladimir Putin is still the president of Russia at the end of 2024.\", \"value\": 0.0}, {\"prop\": \"Geopolitics | Pope Francis (Jorge Mario Bergoglio) is still the active pope at the end of 2024.\", \"value\": 0.0}, {\"prop\": \"US Politics | A Republican candidate who isn't Donald Trump is elected president.\", \"value\": 0.0}, {\"prop\": \"US Politics | A Democrat candidate who isn't Joe Biden is elected president.\", \"value\": 0.0}, {\"prop\": \"US Politics | Joe Biden is impeached.\", \"value\": 0.0}, {\"prop\": \"Sports & Culture | LeBron James retires from or otherwise leaves the NBA, and does not change his mind before the end of the year.\", \"value\": 0.0}, {\"prop\": \"Sports & Culture | The US wins the gold medal in basketball at the Paris Olympics.\", \"value\": 0.0}, {\"prop\": \"Business & Tech | The X/Twitter platform still exists at the end of the year: you can log in, share content, and view content.\", \"value\": 0.0}, {\"prop\": \"Business & Tech | Nvidia remains in the top 10 American companies by market cap at the end of 2024.\", \"value\": 0.0}, {\"prop\": \"Business & Tech | Tim Cook is still the CEO of Apple at the end of the year.\", \"value\": 0.0}, {\"prop\": \"Sports & Culture | One of the three championship favorites (Boston Celtics, Denver Nuggets, Milwaukee Bucks) wins the 2024 NBA title.\", \"value\": 0.0025000000000000044}, {\"prop\": \"Geopolitics | Benjamin Netanyahu is still the prime minister of Israel at the end of 2024.\", \"value\": 0.009999999999999995}, {\"prop\": \"Sports & Culture | Lionel Messi retires from or otherwise leaves the MLS, and does not change his mind before the end of the year.\", \"value\": 0.010000000000000002}, {\"prop\": \"Sports & Culture | The US wins the most gold medals of any country (or ties for first) in the Paris Olympics.\", \"value\": 0.016900000000000002}, {\"prop\": \"Business & Tech | Andy Jassy is still the CEO of Amazon at the end of the year.\", \"value\": 0.016900000000000002}, {\"prop\": \"Geopolitics | Russia and Ukraine sign a truce to stop all combat operations and honor it until the end of the year\", \"value\": 0.0225}, {\"prop\": \"Geopolitics | Vlodymyr Zelenskyy is still the president of Ukraine at the end of 2024.\", \"value\": 0.03999999999999998}, {\"prop\": \"Business & Tech | Sam Altman is still the CEO of OpenAI at the end of 2024.\", \"value\": 0.03999999999999998}, {\"prop\": \"US Politics | The US president elect dies between the election and the end of 2024.\", \"value\": 0.04000000000000001}, {\"prop\": \"Geopolitics | China lands ground forces on the island of Taiwan\", \"value\": 0.06760000000000001}, {\"prop\": \"US Politics | 2024 elections give Democrats control of the Senate.\", \"value\": 0.09}, {\"prop\": \"Business & Tech | The S&P 500 closes the year higher than it began.\", \"value\": 0.10239999999999996}, {\"prop\": \"Business & Tech | Meta is ordered to divest a business unit, by federal court or commission.\", \"value\": 0.2025}, {\"prop\": \"Business & Tech | Amazon is ordered to divest a business unit, by federal court or commission.\", \"value\": 0.2025}, {\"prop\": \"Business & Tech | Alphabet is ordered to divest a business unit, by federal court or commission.\", \"value\": 0.2025}, {\"prop\": \"US Politics | 2024 elections give Democrats control of the House of Representatives.\", \"value\": 0.25}, {\"prop\": \"US Politics | Donald Trump is elected president.\", \"value\": 0.27040000000000003}, {\"prop\": \"US Politics | Joe Biden is re-elected president.\", \"value\": 0.27040000000000003}, {\"prop\": \"US Politics | At least one member of the US Supreme Court steps down or dies during 2024.\", \"value\": 0.42250000000000004}, {\"prop\": \"Sports & Culture | Mainstream news outlets report definitively that Taylor Swift and Travis Kelce have broken up.\", \"value\": 0.48999999999999994}, {\"prop\": \"Sports & Culture | LeBron James and his son LeBron Jr (aka \\\"\\\"Bronny\\\"\\\") are under contract with the same NBA team at any point during 2024.\", \"value\": 0.6400000000000001}, {\"prop\": \"Sports & Culture | Taylor Swift releases an album of composed primarily of entirely new music.\", \"value\": 0.81}, {\"prop\": \"Business & Tech | OpenAI releases (or allows a public preview of) a product branded \\\"\\\"GPT-5\\\"\\\" or \\\"\\\"ChatGPT-5\\\"\\\".\", \"value\": 0.9025}, {\"prop\": \"US Politics | At least one third-party US presidential candidate gets 3% or more of the popular vote.\", \"value\": 1.0}, {\"prop\": \"US Politics | President Jimmy Carter is still alive at the end of 2024.\", \"value\": 1.0}, {\"prop\": \"US Politics | Donald Trump is convicted of a federal crime.\", \"value\": 1.0}, {\"prop\": \"Business & Tech | The Fed raises interest rates at least once in 2024 (even if they also decrease rates).\", \"value\": 1.0}], \"data-32e7adc710423e949bb8e73720bf8fd6\": [{\"prop\": \"US Politics | A Republican candidate who isn't Donald Trump is elected president.\", \"value\": 0.0001}, {\"prop\": \"US Politics | The US president elect dies between the election and the end of 2024.\", \"value\": 0.0001}, {\"prop\": \"Geopolitics | Xi Jinping is still the premier of China at the end of 2024.\", \"value\": 0.0004000000000000007}, {\"prop\": \"Geopolitics | China lands ground forces on the island of Taiwan\", \"value\": 0.0009}, {\"prop\": \"US Politics | A Democrat candidate who isn't Joe Biden is elected president.\", \"value\": 0.0016}, {\"prop\": \"Business & Tech | Amazon is ordered to divest a business unit, by federal court or commission.\", \"value\": 0.0025000000000000005}, {\"prop\": \"Business & Tech | Andy Jassy is still the CEO of Amazon at the end of the year.\", \"value\": 0.004899999999999993}, {\"prop\": \"Geopolitics | Narendra Modi is still the prime minister of India at the end of 2024.\", \"value\": 0.009999999999999995}, {\"prop\": \"Geopolitics | Pope Francis (Jorge Mario Bergoglio) is still the active pope at the end of 2024.\", \"value\": 0.009999999999999995}, {\"prop\": \"Business & Tech | Tim Cook is still the CEO of Apple at the end of the year.\", \"value\": 0.009999999999999995}, {\"prop\": \"Geopolitics | Nuclear weapons are used in an attack (not just tested) somewhere in the world.\", \"value\": 0.010000000000000002}, {\"prop\": \"Business & Tech | Meta is ordered to divest a business unit, by federal court or commission.\", \"value\": 0.010000000000000002}, {\"prop\": \"US Politics | At least one third-party US presidential candidate gets 3% or more of the popular vote.\", \"value\": 0.0225}, {\"prop\": \"US Politics | Donald Trump is convicted of a federal crime.\", \"value\": 0.0225}, {\"prop\": \"US Politics | Joe Biden is impeached.\", \"value\": 0.0225}, {\"prop\": \"Sports & Culture | LeBron James retires from or otherwise leaves the NBA, and does not change his mind before the end of the year.\", \"value\": 0.0225}, {\"prop\": \"Business & Tech | Alphabet is ordered to divest a business unit, by federal court or commission.\", \"value\": 0.0225}, {\"prop\": \"Geopolitics | Vladimir Putin is still the president of Russia at the end of 2024.\", \"value\": 0.022500000000000006}, {\"prop\": \"Sports & Culture | The US wins the gold medal in basketball at the Paris Olympics.\", \"value\": 0.022500000000000006}, {\"prop\": \"Business & Tech | The X/Twitter platform still exists at the end of the year: you can log in, share content, and view content.\", \"value\": 0.022500000000000006}, {\"prop\": \"Geopolitics | Vlodymyr Zelenskyy is still the president of Ukraine at the end of 2024.\", \"value\": 0.03999999999999998}, {\"prop\": \"Sports & Culture | One of the three championship favorites (Boston Celtics, Denver Nuggets, Milwaukee Bucks) wins the 2024 NBA title.\", \"value\": 0.03999999999999998}, {\"prop\": \"Business & Tech | Sam Altman is still the CEO of OpenAI at the end of 2024.\", \"value\": 0.03999999999999998}, {\"prop\": \"US Politics | At least one member of the US Supreme Court steps down or dies during 2024.\", \"value\": 0.04000000000000001}, {\"prop\": \"Sports & Culture | Mainstream news outlets report definitively that Taylor Swift and Travis Kelce have broken up.\", \"value\": 0.0625}, {\"prop\": \"Business & Tech | The S&P 500 closes the year higher than it began.\", \"value\": 0.07840000000000001}, {\"prop\": \"US Politics | 2024 elections give Democrats control of the Senate.\", \"value\": 0.09}, {\"prop\": \"Sports & Culture | Lionel Messi retires from or otherwise leaves the MLS, and does not change his mind before the end of the year.\", \"value\": 0.09}, {\"prop\": \"Geopolitics | Benjamin Netanyahu is still the prime minister of Israel at the end of 2024.\", \"value\": 0.12249999999999998}, {\"prop\": \"Business & Tech | The Fed raises interest rates at least once in 2024 (even if they also decrease rates).\", \"value\": 0.16000000000000003}, {\"prop\": \"Sports & Culture | The US wins the most gold medals of any country (or ties for first) in the Paris Olympics.\", \"value\": 0.25}, {\"prop\": \"US Politics | Joe Biden is re-elected president.\", \"value\": 0.28090000000000004}, {\"prop\": \"US Politics | 2024 elections give Democrats control of the House of Representatives.\", \"value\": 0.30250000000000005}, {\"prop\": \"Business & Tech | Nvidia remains in the top 10 American companies by market cap at the end of 2024.\", \"value\": 0.30250000000000005}, {\"prop\": \"US Politics | Donald Trump is elected president.\", \"value\": 0.3364000000000001}, {\"prop\": \"Geopolitics | Russia and Ukraine sign a truce to stop all combat operations and honor it until the end of the year\", \"value\": 0.42250000000000004}, {\"prop\": \"Sports & Culture | Taylor Swift releases an album of composed primarily of entirely new music.\", \"value\": 0.42250000000000004}, {\"prop\": \"Business & Tech | OpenAI releases (or allows a public preview of) a product branded \\\"\\\"GPT-5\\\"\\\" or \\\"\\\"ChatGPT-5\\\"\\\".\", \"value\": 0.42250000000000004}, {\"prop\": \"Sports & Culture | LeBron James and his son LeBron Jr (aka \\\"\\\"Bronny\\\"\\\") are under contract with the same NBA team at any point during 2024.\", \"value\": 0.6400000000000001}, {\"prop\": \"US Politics | President Jimmy Carter is still alive at the end of 2024.\", \"value\": 0.9025}], \"data-3b502a21ed35f71d775031213cff1d15\": [{\"prop\": \"Geopolitics | China lands ground forces on the island of Taiwan\", \"value\": 0.0}, {\"prop\": \"Geopolitics | Nuclear weapons are used in an attack (not just tested) somewhere in the world.\", \"value\": 0.0}, {\"prop\": \"Geopolitics | Xi Jinping is still the premier of China at the end of 2024.\", \"value\": 0.0}, {\"prop\": \"Geopolitics | Narendra Modi is still the prime minister of India at the end of 2024.\", \"value\": 0.0}, {\"prop\": \"Geopolitics | Vladimir Putin is still the president of Russia at the end of 2024.\", \"value\": 0.0}, {\"prop\": \"Geopolitics | Vlodymyr Zelenskyy is still the president of Ukraine at the end of 2024.\", \"value\": 0.0}, {\"prop\": \"Geopolitics | Pope Francis (Jorge Mario Bergoglio) is still the active pope at the end of 2024.\", \"value\": 0.0}, {\"prop\": \"US Politics | The US president elect dies between the election and the end of 2024.\", \"value\": 0.0}, {\"prop\": \"Business & Tech | The S&P 500 closes the year higher than it began.\", \"value\": 0.0}, {\"prop\": \"Business & Tech | Sam Altman is still the CEO of OpenAI at the end of 2024.\", \"value\": 0.0}, {\"prop\": \"Business & Tech | The X/Twitter platform still exists at the end of the year: you can log in, share content, and view content.\", \"value\": 0.0}, {\"prop\": \"Sports & Culture | The US wins the most gold medals of any country (or ties for first) in the Paris Olympics.\", \"value\": 0.0025000000000000044}, {\"prop\": \"Sports & Culture | The US wins the gold medal in basketball at the Paris Olympics.\", \"value\": 0.009999999999999995}, {\"prop\": \"Business & Tech | Tim Cook is still the CEO of Apple at the end of the year.\", \"value\": 0.009999999999999995}, {\"prop\": \"Business & Tech | Andy Jassy is still the CEO of Amazon at the end of the year.\", \"value\": 0.009999999999999995}, {\"prop\": \"Geopolitics | Russia and Ukraine sign a truce to stop all combat operations and honor it until the end of the year\", \"value\": 0.010000000000000002}, {\"prop\": \"US Politics | A Republican candidate who isn't Donald Trump is elected president.\", \"value\": 0.010000000000000002}, {\"prop\": \"US Politics | A Democrat candidate who isn't Joe Biden is elected president.\", \"value\": 0.010000000000000002}, {\"prop\": \"Business & Tech | OpenAI releases (or allows a public preview of) a product branded \\\"\\\"GPT-5\\\"\\\" or \\\"\\\"ChatGPT-5\\\"\\\".\", \"value\": 0.010000000000000002}, {\"prop\": \"Sports & Culture | LeBron James retires from or otherwise leaves the NBA, and does not change his mind before the end of the year.\", \"value\": 0.04000000000000001}, {\"prop\": \"Sports & Culture | Lionel Messi retires from or otherwise leaves the MLS, and does not change his mind before the end of the year.\", \"value\": 0.04000000000000001}, {\"prop\": \"Business & Tech | The Fed raises interest rates at least once in 2024 (even if they also decrease rates).\", \"value\": 0.0625}, {\"prop\": \"Business & Tech | Meta is ordered to divest a business unit, by federal court or commission.\", \"value\": 0.09}, {\"prop\": \"Business & Tech | Amazon is ordered to divest a business unit, by federal court or commission.\", \"value\": 0.09}, {\"prop\": \"Business & Tech | Alphabet is ordered to divest a business unit, by federal court or commission.\", \"value\": 0.09}, {\"prop\": \"US Politics | Joe Biden is re-elected president.\", \"value\": 0.16000000000000003}, {\"prop\": \"Sports & Culture | One of the three championship favorites (Boston Celtics, Denver Nuggets, Milwaukee Bucks) wins the 2024 NBA title.\", \"value\": 0.16000000000000003}, {\"prop\": \"Sports & Culture | Taylor Swift releases an album of composed primarily of entirely new music.\", \"value\": 0.25}, {\"prop\": \"Business & Tech | Nvidia remains in the top 10 American companies by market cap at the end of 2024.\", \"value\": 0.25}, {\"prop\": \"US Politics | Donald Trump is elected president.\", \"value\": 0.36}, {\"prop\": \"US Politics | At least one third-party US presidential candidate gets 3% or more of the popular vote.\", \"value\": 0.5625}, {\"prop\": \"US Politics | 2024 elections give Democrats control of the Senate.\", \"value\": 0.5625}, {\"prop\": \"Geopolitics | Benjamin Netanyahu is still the prime minister of Israel at the end of 2024.\", \"value\": 0.6400000000000001}, {\"prop\": \"US Politics | 2024 elections give Democrats control of the House of Representatives.\", \"value\": 0.6400000000000001}, {\"prop\": \"US Politics | President Jimmy Carter is still alive at the end of 2024.\", \"value\": 0.6400000000000001}, {\"prop\": \"US Politics | Joe Biden is impeached.\", \"value\": 0.81}, {\"prop\": \"Sports & Culture | LeBron James and his son LeBron Jr (aka \\\"\\\"Bronny\\\"\\\") are under contract with the same NBA team at any point during 2024.\", \"value\": 0.81}, {\"prop\": \"US Politics | At least one member of the US Supreme Court steps down or dies during 2024.\", \"value\": 1.0}, {\"prop\": \"US Politics | Donald Trump is convicted of a federal crime.\", \"value\": 1.0}, {\"prop\": \"Sports & Culture | Mainstream news outlets report definitively that Taylor Swift and Travis Kelce have broken up.\", \"value\": 1.0}], \"data-706d21c2da11aa26cf6b4c637ab507f9\": [{\"prop\": \"Geopolitics | Nuclear weapons are used in an attack (not just tested) somewhere in the world.\", \"value\": 0.0}, {\"prop\": \"Sports & Culture | LeBron James retires from or otherwise leaves the NBA, and does not change his mind before the end of the year.\", \"value\": 0.0}, {\"prop\": \"Sports & Culture | Lionel Messi retires from or otherwise leaves the MLS, and does not change his mind before the end of the year.\", \"value\": 0.0}, {\"prop\": \"US Politics | The US president elect dies between the election and the end of 2024.\", \"value\": 1e-06}, {\"prop\": \"Geopolitics | China lands ground forces on the island of Taiwan\", \"value\": 0.0001}, {\"prop\": \"US Politics | Joe Biden is impeached.\", \"value\": 0.0004}, {\"prop\": \"US Politics | At least one member of the US Supreme Court steps down or dies during 2024.\", \"value\": 0.0009}, {\"prop\": \"Geopolitics | Russia and Ukraine sign a truce to stop all combat operations and honor it until the end of the year\", \"value\": 0.0025000000000000005}, {\"prop\": \"US Politics | A Republican candidate who isn't Donald Trump is elected president.\", \"value\": 0.0025000000000000005}, {\"prop\": \"US Politics | A Democrat candidate who isn't Joe Biden is elected president.\", \"value\": 0.0025000000000000005}, {\"prop\": \"US Politics | At least one third-party US presidential candidate gets 3% or more of the popular vote.\", \"value\": 0.0025000000000000005}, {\"prop\": \"Geopolitics | Xi Jinping is still the premier of China at the end of 2024.\", \"value\": 0.0025000000000000044}, {\"prop\": \"Geopolitics | Narendra Modi is still the prime minister of India at the end of 2024.\", \"value\": 0.0025000000000000044}, {\"prop\": \"Business & Tech | Nvidia remains in the top 10 American companies by market cap at the end of 2024.\", \"value\": 0.0025000000000000044}, {\"prop\": \"Geopolitics | Benjamin Netanyahu is still the prime minister of Israel at the end of 2024.\", \"value\": 0.009999999999999995}, {\"prop\": \"Geopolitics | Vladimir Putin is still the president of Russia at the end of 2024.\", \"value\": 0.009999999999999995}, {\"prop\": \"Geopolitics | Vlodymyr Zelenskyy is still the president of Ukraine at the end of 2024.\", \"value\": 0.009999999999999995}, {\"prop\": \"Sports & Culture | The US wins the gold medal in basketball at the Paris Olympics.\", \"value\": 0.009999999999999995}, {\"prop\": \"Sports & Culture | One of the three championship favorites (Boston Celtics, Denver Nuggets, Milwaukee Bucks) wins the 2024 NBA title.\", \"value\": 0.009999999999999995}, {\"prop\": \"Business & Tech | Sam Altman is still the CEO of OpenAI at the end of 2024.\", \"value\": 0.009999999999999995}, {\"prop\": \"Business & Tech | The Fed raises interest rates at least once in 2024 (even if they also decrease rates).\", \"value\": 0.010000000000000002}, {\"prop\": \"Sports & Culture | Taylor Swift releases an album of composed primarily of entirely new music.\", \"value\": 0.012099999999999998}, {\"prop\": \"Business & Tech | Meta is ordered to divest a business unit, by federal court or commission.\", \"value\": 0.0225}, {\"prop\": \"Business & Tech | Amazon is ordered to divest a business unit, by federal court or commission.\", \"value\": 0.0225}, {\"prop\": \"Business & Tech | Alphabet is ordered to divest a business unit, by federal court or commission.\", \"value\": 0.0225}, {\"prop\": \"Geopolitics | Pope Francis (Jorge Mario Bergoglio) is still the active pope at the end of 2024.\", \"value\": 0.03999999999999998}, {\"prop\": \"Business & Tech | The S&P 500 closes the year higher than it began.\", \"value\": 0.03999999999999998}, {\"prop\": \"Sports & Culture | The US wins the most gold medals of any country (or ties for first) in the Paris Olympics.\", \"value\": 0.0625}, {\"prop\": \"Business & Tech | Tim Cook is still the CEO of Apple at the end of the year.\", \"value\": 0.09000000000000002}, {\"prop\": \"Business & Tech | Andy Jassy is still the CEO of Amazon at the end of the year.\", \"value\": 0.09000000000000002}, {\"prop\": \"US Politics | Donald Trump is elected president.\", \"value\": 0.25}, {\"prop\": \"US Politics | Joe Biden is re-elected president.\", \"value\": 0.25}, {\"prop\": \"US Politics | 2024 elections give Democrats control of the Senate.\", \"value\": 0.36}, {\"prop\": \"US Politics | 2024 elections give Democrats control of the House of Representatives.\", \"value\": 0.36}, {\"prop\": \"Business & Tech | The X/Twitter platform still exists at the end of the year: you can log in, share content, and view content.\", \"value\": 0.36}, {\"prop\": \"US Politics | Donald Trump is convicted of a federal crime.\", \"value\": 0.48999999999999994}, {\"prop\": \"Sports & Culture | LeBron James and his son LeBron Jr (aka \\\"\\\"Bronny\\\"\\\") are under contract with the same NBA team at any point during 2024.\", \"value\": 0.6400000000000001}, {\"prop\": \"Business & Tech | OpenAI releases (or allows a public preview of) a product branded \\\"\\\"GPT-5\\\"\\\" or \\\"\\\"ChatGPT-5\\\"\\\".\", \"value\": 0.7569}, {\"prop\": \"US Politics | President Jimmy Carter is still alive at the end of 2024.\", \"value\": 0.81}, {\"prop\": \"Sports & Culture | Mainstream news outlets report definitively that Taylor Swift and Travis Kelce have broken up.\", \"value\": 1.0}], \"data-226953f2173a4e50d15ecbe1faf57102\": [{\"prop\": \"Geopolitics | Nuclear weapons are used in an attack (not just tested) somewhere in the world.\", \"value\": 1e-06}, {\"prop\": \"US Politics | The US president elect dies between the election and the end of 2024.\", \"value\": 1e-06}, {\"prop\": \"Geopolitics | China lands ground forces on the island of Taiwan\", \"value\": 0.0001}, {\"prop\": \"US Politics | A Democrat candidate who isn't Joe Biden is elected president.\", \"value\": 0.0001}, {\"prop\": \"US Politics | At least one member of the US Supreme Court steps down or dies during 2024.\", \"value\": 0.0001}, {\"prop\": \"Sports & Culture | LeBron James retires from or otherwise leaves the NBA, and does not change his mind before the end of the year.\", \"value\": 0.0001}, {\"prop\": \"Business & Tech | The Fed raises interest rates at least once in 2024 (even if they also decrease rates).\", \"value\": 0.0001}, {\"prop\": \"Business & Tech | The X/Twitter platform still exists at the end of the year: you can log in, share content, and view content.\", \"value\": 0.0025000000000000044}, {\"prop\": \"Geopolitics | Xi Jinping is still the premier of China at the end of 2024.\", \"value\": 0.009999999999999995}, {\"prop\": \"Geopolitics | Vladimir Putin is still the president of Russia at the end of 2024.\", \"value\": 0.009999999999999995}, {\"prop\": \"Geopolitics | Pope Francis (Jorge Mario Bergoglio) is still the active pope at the end of 2024.\", \"value\": 0.009999999999999995}, {\"prop\": \"Sports & Culture | The US wins the gold medal in basketball at the Paris Olympics.\", \"value\": 0.009999999999999995}, {\"prop\": \"US Politics | A Republican candidate who isn't Donald Trump is elected president.\", \"value\": 0.010000000000000002}, {\"prop\": \"Sports & Culture | Lionel Messi retires from or otherwise leaves the MLS, and does not change his mind before the end of the year.\", \"value\": 0.010000000000000002}, {\"prop\": \"Business & Tech | Meta is ordered to divest a business unit, by federal court or commission.\", \"value\": 0.010000000000000002}, {\"prop\": \"Business & Tech | Amazon is ordered to divest a business unit, by federal court or commission.\", \"value\": 0.010000000000000002}, {\"prop\": \"Business & Tech | Alphabet is ordered to divest a business unit, by federal court or commission.\", \"value\": 0.010000000000000002}, {\"prop\": \"Sports & Culture | One of the three championship favorites (Boston Celtics, Denver Nuggets, Milwaukee Bucks) wins the 2024 NBA title.\", \"value\": 0.03999999999999998}, {\"prop\": \"Business & Tech | Tim Cook is still the CEO of Apple at the end of the year.\", \"value\": 0.03999999999999998}, {\"prop\": \"Sports & Culture | Mainstream news outlets report definitively that Taylor Swift and Travis Kelce have broken up.\", \"value\": 0.04000000000000001}, {\"prop\": \"Geopolitics | Narendra Modi is still the prime minister of India at the end of 2024.\", \"value\": 0.0625}, {\"prop\": \"Geopolitics | Vlodymyr Zelenskyy is still the president of Ukraine at the end of 2024.\", \"value\": 0.0625}, {\"prop\": \"US Politics | 2024 elections give Democrats control of the Senate.\", \"value\": 0.09}, {\"prop\": \"US Politics | Donald Trump is convicted of a federal crime.\", \"value\": 0.09}, {\"prop\": \"Business & Tech | The S&P 500 closes the year higher than it began.\", \"value\": 0.09000000000000002}, {\"prop\": \"Business & Tech | Nvidia remains in the top 10 American companies by market cap at the end of 2024.\", \"value\": 0.09000000000000002}, {\"prop\": \"Business & Tech | Andy Jassy is still the CEO of Amazon at the end of the year.\", \"value\": 0.09000000000000002}, {\"prop\": \"US Politics | Donald Trump is elected president.\", \"value\": 0.16000000000000003}, {\"prop\": \"US Politics | Joe Biden is re-elected president.\", \"value\": 0.16000000000000003}, {\"prop\": \"US Politics | Joe Biden is impeached.\", \"value\": 0.16000000000000003}, {\"prop\": \"Sports & Culture | The US wins the most gold medals of any country (or ties for first) in the Paris Olympics.\", \"value\": 0.16000000000000003}, {\"prop\": \"Geopolitics | Russia and Ukraine sign a truce to stop all combat operations and honor it until the end of the year\", \"value\": 0.25}, {\"prop\": \"US Politics | 2024 elections give Democrats control of the House of Representatives.\", \"value\": 0.25}, {\"prop\": \"Business & Tech | Sam Altman is still the CEO of OpenAI at the end of 2024.\", \"value\": 0.25}, {\"prop\": \"Business & Tech | OpenAI releases (or allows a public preview of) a product branded \\\"\\\"GPT-5\\\"\\\" or \\\"\\\"ChatGPT-5\\\"\\\".\", \"value\": 0.48999999999999994}, {\"prop\": \"Sports & Culture | LeBron James and his son LeBron Jr (aka \\\"\\\"Bronny\\\"\\\") are under contract with the same NBA team at any point during 2024.\", \"value\": 0.6400000000000001}, {\"prop\": \"Geopolitics | Benjamin Netanyahu is still the prime minister of Israel at the end of 2024.\", \"value\": 0.81}, {\"prop\": \"US Politics | At least one third-party US presidential candidate gets 3% or more of the popular vote.\", \"value\": 0.81}, {\"prop\": \"Sports & Culture | Taylor Swift releases an album of composed primarily of entirely new music.\", \"value\": 0.9801}, {\"prop\": \"US Politics | President Jimmy Carter is still alive at the end of 2024.\", \"value\": 0.998001}], \"data-f97653dcd26395e89ea814cae2361da5\": [{\"prop\": \"Geopolitics | Nuclear weapons are used in an attack (not just tested) somewhere in the world.\", \"value\": 0.0001}, {\"prop\": \"US Politics | A Democrat candidate who isn't Joe Biden is elected president.\", \"value\": 0.0001}, {\"prop\": \"Geopolitics | China lands ground forces on the island of Taiwan\", \"value\": 0.0016}, {\"prop\": \"Geopolitics | Xi Jinping is still the premier of China at the end of 2024.\", \"value\": 0.009999999999999995}, {\"prop\": \"Geopolitics | Narendra Modi is still the prime minister of India at the end of 2024.\", \"value\": 0.009999999999999995}, {\"prop\": \"Geopolitics | Benjamin Netanyahu is still the prime minister of Israel at the end of 2024.\", \"value\": 0.009999999999999995}, {\"prop\": \"Geopolitics | Vlodymyr Zelenskyy is still the president of Ukraine at the end of 2024.\", \"value\": 0.009999999999999995}, {\"prop\": \"Business & Tech | The S&P 500 closes the year higher than it began.\", \"value\": 0.009999999999999995}, {\"prop\": \"US Politics | At least one third-party US presidential candidate gets 3% or more of the popular vote.\", \"value\": 0.010000000000000002}, {\"prop\": \"Business & Tech | Meta is ordered to divest a business unit, by federal court or commission.\", \"value\": 0.0225}, {\"prop\": \"Business & Tech | Amazon is ordered to divest a business unit, by federal court or commission.\", \"value\": 0.0225}, {\"prop\": \"Business & Tech | Alphabet is ordered to divest a business unit, by federal court or commission.\", \"value\": 0.0225}, {\"prop\": \"Business & Tech | The X/Twitter platform still exists at the end of the year: you can log in, share content, and view content.\", \"value\": 0.022500000000000006}, {\"prop\": \"Geopolitics | Vladimir Putin is still the president of Russia at the end of 2024.\", \"value\": 0.03999999999999998}, {\"prop\": \"Geopolitics | Pope Francis (Jorge Mario Bergoglio) is still the active pope at the end of 2024.\", \"value\": 0.03999999999999998}, {\"prop\": \"Sports & Culture | One of the three championship favorites (Boston Celtics, Denver Nuggets, Milwaukee Bucks) wins the 2024 NBA title.\", \"value\": 0.03999999999999998}, {\"prop\": \"Business & Tech | Sam Altman is still the CEO of OpenAI at the end of 2024.\", \"value\": 0.03999999999999998}, {\"prop\": \"US Politics | The US president elect dies between the election and the end of 2024.\", \"value\": 0.04000000000000001}, {\"prop\": \"US Politics | Joe Biden is impeached.\", \"value\": 0.04000000000000001}, {\"prop\": \"US Politics | A Republican candidate who isn't Donald Trump is elected president.\", \"value\": 0.09}, {\"prop\": \"Sports & Culture | LeBron James retires from or otherwise leaves the NBA, and does not change his mind before the end of the year.\", \"value\": 0.09}, {\"prop\": \"Sports & Culture | Lionel Messi retires from or otherwise leaves the MLS, and does not change his mind before the end of the year.\", \"value\": 0.09}, {\"prop\": \"Business & Tech | Tim Cook is still the CEO of Apple at the end of the year.\", \"value\": 0.09000000000000002}, {\"prop\": \"Business & Tech | Andy Jassy is still the CEO of Amazon at the end of the year.\", \"value\": 0.09000000000000002}, {\"prop\": \"US Politics | Joe Biden is re-elected president.\", \"value\": 0.16000000000000003}, {\"prop\": \"US Politics | At least one member of the US Supreme Court steps down or dies during 2024.\", \"value\": 0.16000000000000003}, {\"prop\": \"US Politics | President Jimmy Carter is still alive at the end of 2024.\", \"value\": 0.16000000000000003}, {\"prop\": \"Sports & Culture | Mainstream news outlets report definitively that Taylor Swift and Travis Kelce have broken up.\", \"value\": 0.16000000000000003}, {\"prop\": \"Sports & Culture | LeBron James and his son LeBron Jr (aka \\\"\\\"Bronny\\\"\\\") are under contract with the same NBA team at any point during 2024.\", \"value\": 0.16000000000000003}, {\"prop\": \"Sports & Culture | The US wins the most gold medals of any country (or ties for first) in the Paris Olympics.\", \"value\": 0.16000000000000003}, {\"prop\": \"Business & Tech | The Fed raises interest rates at least once in 2024 (even if they also decrease rates).\", \"value\": 0.16000000000000003}, {\"prop\": \"US Politics | 2024 elections give Democrats control of the Senate.\", \"value\": 0.2025}, {\"prop\": \"US Politics | 2024 elections give Democrats control of the House of Representatives.\", \"value\": 0.2025}, {\"prop\": \"Sports & Culture | The US wins the gold medal in basketball at the Paris Olympics.\", \"value\": 0.25}, {\"prop\": \"Geopolitics | Russia and Ukraine sign a truce to stop all combat operations and honor it until the end of the year\", \"value\": 0.30250000000000005}, {\"prop\": \"US Politics | Donald Trump is convicted of a federal crime.\", \"value\": 0.36}, {\"prop\": \"Business & Tech | OpenAI releases (or allows a public preview of) a product branded \\\"\\\"GPT-5\\\"\\\" or \\\"\\\"ChatGPT-5\\\"\\\".\", \"value\": 0.36}, {\"prop\": \"Business & Tech | Nvidia remains in the top 10 American companies by market cap at the end of 2024.\", \"value\": 0.36}, {\"prop\": \"US Politics | Donald Trump is elected president.\", \"value\": 0.48999999999999994}, {\"prop\": \"Sports & Culture | Taylor Swift releases an album of composed primarily of entirely new music.\", \"value\": 0.48999999999999994}], \"data-cf5d0b0d4f0b0d881acb85a1d9d9e02a\": [{\"prop\": \"US Politics | The US president elect dies between the election and the end of 2024.\", \"value\": 2.5e-05}, {\"prop\": \"US Politics | Joe Biden is impeached.\", \"value\": 2.5e-05}, {\"prop\": \"US Politics | At least one third-party US presidential candidate gets 3% or more of the popular vote.\", \"value\": 0.0001}, {\"prop\": \"Geopolitics | China lands ground forces on the island of Taiwan\", \"value\": 0.0025000000000000005}, {\"prop\": \"Geopolitics | Nuclear weapons are used in an attack (not just tested) somewhere in the world.\", \"value\": 0.0025000000000000005}, {\"prop\": \"US Politics | A Republican candidate who isn't Donald Trump is elected president.\", \"value\": 0.0025000000000000005}, {\"prop\": \"US Politics | A Democrat candidate who isn't Joe Biden is elected president.\", \"value\": 0.0025000000000000005}, {\"prop\": \"Geopolitics | Xi Jinping is still the premier of China at the end of 2024.\", \"value\": 0.0025000000000000044}, {\"prop\": \"Geopolitics | Narendra Modi is still the prime minister of India at the end of 2024.\", \"value\": 0.0025000000000000044}, {\"prop\": \"Geopolitics | Vlodymyr Zelenskyy is still the president of Ukraine at the end of 2024.\", \"value\": 0.0025000000000000044}, {\"prop\": \"Geopolitics | Benjamin Netanyahu is still the prime minister of Israel at the end of 2024.\", \"value\": 0.009999999999999995}, {\"prop\": \"Geopolitics | Vladimir Putin is still the president of Russia at the end of 2024.\", \"value\": 0.009999999999999995}, {\"prop\": \"Business & Tech | The S&P 500 closes the year higher than it began.\", \"value\": 0.009999999999999995}, {\"prop\": \"Business & Tech | Tim Cook is still the CEO of Apple at the end of the year.\", \"value\": 0.009999999999999995}, {\"prop\": \"Business & Tech | Andy Jassy is still the CEO of Amazon at the end of the year.\", \"value\": 0.009999999999999995}, {\"prop\": \"US Politics | At least one member of the US Supreme Court steps down or dies during 2024.\", \"value\": 0.010000000000000002}, {\"prop\": \"Business & Tech | Meta is ordered to divest a business unit, by federal court or commission.\", \"value\": 0.010000000000000002}, {\"prop\": \"Business & Tech | Amazon is ordered to divest a business unit, by federal court or commission.\", \"value\": 0.010000000000000002}, {\"prop\": \"Business & Tech | Alphabet is ordered to divest a business unit, by federal court or commission.\", \"value\": 0.010000000000000002}, {\"prop\": \"Geopolitics | Pope Francis (Jorge Mario Bergoglio) is still the active pope at the end of 2024.\", \"value\": 0.016900000000000002}, {\"prop\": \"Business & Tech | Sam Altman is still the CEO of OpenAI at the end of 2024.\", \"value\": 0.03999999999999998}, {\"prop\": \"Geopolitics | Russia and Ukraine sign a truce to stop all combat operations and honor it until the end of the year\", \"value\": 0.04000000000000001}, {\"prop\": \"US Politics | 2024 elections give Democrats control of the Senate.\", \"value\": 0.04000000000000001}, {\"prop\": \"Sports & Culture | Lionel Messi retires from or otherwise leaves the MLS, and does not change his mind before the end of the year.\", \"value\": 0.04000000000000001}, {\"prop\": \"Business & Tech | The Fed raises interest rates at least once in 2024 (even if they also decrease rates).\", \"value\": 0.04000000000000001}, {\"prop\": \"Sports & Culture | Taylor Swift releases an album of composed primarily of entirely new music.\", \"value\": 0.09000000000000002}, {\"prop\": \"Sports & Culture | The US wins the gold medal in basketball at the Paris Olympics.\", \"value\": 0.09000000000000002}, {\"prop\": \"Sports & Culture | The US wins the most gold medals of any country (or ties for first) in the Paris Olympics.\", \"value\": 0.12249999999999998}, {\"prop\": \"US Politics | Donald Trump is convicted of a federal crime.\", \"value\": 0.25}, {\"prop\": \"Sports & Culture | Mainstream news outlets report definitively that Taylor Swift and Travis Kelce have broken up.\", \"value\": 0.25}, {\"prop\": \"Sports & Culture | LeBron James retires from or otherwise leaves the NBA, and does not change his mind before the end of the year.\", \"value\": 0.25}, {\"prop\": \"US Politics | Joe Biden is re-elected president.\", \"value\": 0.36}, {\"prop\": \"US Politics | 2024 elections give Democrats control of the House of Representatives.\", \"value\": 0.36}, {\"prop\": \"Sports & Culture | One of the three championship favorites (Boston Celtics, Denver Nuggets, Milwaukee Bucks) wins the 2024 NBA title.\", \"value\": 0.36}, {\"prop\": \"Business & Tech | Nvidia remains in the top 10 American companies by market cap at the end of 2024.\", \"value\": 0.36}, {\"prop\": \"US Politics | Donald Trump is elected president.\", \"value\": 0.48999999999999994}, {\"prop\": \"Business & Tech | OpenAI releases (or allows a public preview of) a product branded \\\"\\\"GPT-5\\\"\\\" or \\\"\\\"ChatGPT-5\\\"\\\".\", \"value\": 0.48999999999999994}, {\"prop\": \"Business & Tech | The X/Twitter platform still exists at the end of the year: you can log in, share content, and view content.\", \"value\": 0.48999999999999994}, {\"prop\": \"US Politics | President Jimmy Carter is still alive at the end of 2024.\", \"value\": 0.9025}, {\"prop\": \"Sports & Culture | LeBron James and his son LeBron Jr (aka \\\"\\\"Bronny\\\"\\\") are under contract with the same NBA team at any point during 2024.\", \"value\": 0.9025}], \"data-0ff022e9c550f63c0cb70205a10666e1\": [{\"prop\": \"Geopolitics | Nuclear weapons are used in an attack (not just tested) somewhere in the world.\", \"value\": 1e-06}, {\"prop\": \"Geopolitics | Xi Jinping is still the premier of China at the end of 2024.\", \"value\": 2.5000000000000045e-05}, {\"prop\": \"Geopolitics | China lands ground forces on the island of Taiwan\", \"value\": 0.0009}, {\"prop\": \"US Politics | Joe Biden is impeached.\", \"value\": 0.0009}, {\"prop\": \"Geopolitics | Vladimir Putin is still the president of Russia at the end of 2024.\", \"value\": 0.0009000000000000016}, {\"prop\": \"Business & Tech | The X/Twitter platform still exists at the end of the year: you can log in, share content, and view content.\", \"value\": 0.001600000000000003}, {\"prop\": \"Business & Tech | Meta is ordered to divest a business unit, by federal court or commission.\", \"value\": 0.0025000000000000005}, {\"prop\": \"Geopolitics | Vlodymyr Zelenskyy is still the president of Ukraine at the end of 2024.\", \"value\": 0.0025000000000000044}, {\"prop\": \"US Politics | The US president elect dies between the election and the end of 2024.\", \"value\": 0.0036}, {\"prop\": \"Business & Tech | Amazon is ordered to divest a business unit, by federal court or commission.\", \"value\": 0.0036}, {\"prop\": \"Geopolitics | Pope Francis (Jorge Mario Bergoglio) is still the active pope at the end of 2024.\", \"value\": 0.0036000000000000064}, {\"prop\": \"US Politics | At least one third-party US presidential candidate gets 3% or more of the popular vote.\", \"value\": 0.004900000000000001}, {\"prop\": \"Business & Tech | Alphabet is ordered to divest a business unit, by federal court or commission.\", \"value\": 0.0064}, {\"prop\": \"Geopolitics | Narendra Modi is still the prime minister of India at the end of 2024.\", \"value\": 0.009999999999999995}, {\"prop\": \"Geopolitics | Benjamin Netanyahu is still the prime minister of Israel at the end of 2024.\", \"value\": 0.009999999999999995}, {\"prop\": \"Business & Tech | Tim Cook is still the CEO of Apple at the end of the year.\", \"value\": 0.009999999999999995}, {\"prop\": \"US Politics | A Republican candidate who isn't Donald Trump is elected president.\", \"value\": 0.010000000000000002}, {\"prop\": \"US Politics | At least one member of the US Supreme Court steps down or dies during 2024.\", \"value\": 0.010000000000000002}, {\"prop\": \"Sports & Culture | The US wins the gold medal in basketball at the Paris Olympics.\", \"value\": 0.03999999999999998}, {\"prop\": \"Geopolitics | Russia and Ukraine sign a truce to stop all combat operations and honor it until the end of the year\", \"value\": 0.04000000000000001}, {\"prop\": \"US Politics | A Democrat candidate who isn't Joe Biden is elected president.\", \"value\": 0.04000000000000001}, {\"prop\": \"Sports & Culture | Lionel Messi retires from or otherwise leaves the MLS, and does not change his mind before the end of the year.\", \"value\": 0.04000000000000001}, {\"prop\": \"US Politics | Joe Biden is re-elected president.\", \"value\": 0.09}, {\"prop\": \"US Politics | 2024 elections give Democrats control of the House of Representatives.\", \"value\": 0.09}, {\"prop\": \"Sports & Culture | Taylor Swift releases an album of composed primarily of entirely new music.\", \"value\": 0.09000000000000002}, {\"prop\": \"Business & Tech | Sam Altman is still the CEO of OpenAI at the end of 2024.\", \"value\": 0.09000000000000002}, {\"prop\": \"Business & Tech | Andy Jassy is still the CEO of Amazon at the end of the year.\", \"value\": 0.09000000000000002}, {\"prop\": \"Sports & Culture | Mainstream news outlets report definitively that Taylor Swift and Travis Kelce have broken up.\", \"value\": 0.16000000000000003}, {\"prop\": \"Business & Tech | The S&P 500 closes the year higher than it began.\", \"value\": 0.16000000000000003}, {\"prop\": \"US Politics | Donald Trump is convicted of a federal crime.\", \"value\": 0.25}, {\"prop\": \"Sports & Culture | One of the three championship favorites (Boston Celtics, Denver Nuggets, Milwaukee Bucks) wins the 2024 NBA title.\", \"value\": 0.25}, {\"prop\": \"Business & Tech | The Fed raises interest rates at least once in 2024 (even if they also decrease rates).\", \"value\": 0.25}, {\"prop\": \"US Politics | Donald Trump is elected president.\", \"value\": 0.36}, {\"prop\": \"US Politics | 2024 elections give Democrats control of the Senate.\", \"value\": 0.36}, {\"prop\": \"Sports & Culture | LeBron James retires from or otherwise leaves the NBA, and does not change his mind before the end of the year.\", \"value\": 0.36}, {\"prop\": \"Sports & Culture | The US wins the most gold medals of any country (or ties for first) in the Paris Olympics.\", \"value\": 0.36}, {\"prop\": \"Business & Tech | Nvidia remains in the top 10 American companies by market cap at the end of 2024.\", \"value\": 0.36}, {\"prop\": \"Business & Tech | OpenAI releases (or allows a public preview of) a product branded \\\"\\\"GPT-5\\\"\\\" or \\\"\\\"ChatGPT-5\\\"\\\".\", \"value\": 0.48999999999999994}, {\"prop\": \"Sports & Culture | LeBron James and his son LeBron Jr (aka \\\"\\\"Bronny\\\"\\\") are under contract with the same NBA team at any point during 2024.\", \"value\": 0.8281000000000001}, {\"prop\": \"US Politics | President Jimmy Carter is still alive at the end of 2024.\", \"value\": 0.9603999999999999}], \"data-c80ec3bce0d43aa34f6f19a896172442\": [{\"prop\": \"Business & Tech | The X/Twitter platform still exists at the end of the year: you can log in, share content, and view content.\", \"value\": 9.999999999997797e-09}, {\"prop\": \"Geopolitics | Nuclear weapons are used in an attack (not just tested) somewhere in the world.\", \"value\": 1e-08}, {\"prop\": \"US Politics | A Republican candidate who isn't Donald Trump is elected president.\", \"value\": 1e-08}, {\"prop\": \"US Politics | The US president elect dies between the election and the end of 2024.\", \"value\": 1e-06}, {\"prop\": \"Business & Tech | Nvidia remains in the top 10 American companies by market cap at the end of 2024.\", \"value\": 1.0000000000000019e-06}, {\"prop\": \"Business & Tech | Tim Cook is still the CEO of Apple at the end of the year.\", \"value\": 1.0000000000000019e-06}, {\"prop\": \"Business & Tech | Andy Jassy is still the CEO of Amazon at the end of the year.\", \"value\": 1.0000000000000019e-06}, {\"prop\": \"Geopolitics | China lands ground forces on the island of Taiwan\", \"value\": 0.0001}, {\"prop\": \"US Politics | At least one member of the US Supreme Court steps down or dies during 2024.\", \"value\": 0.0001}, {\"prop\": \"Sports & Culture | LeBron James retires from or otherwise leaves the NBA, and does not change his mind before the end of the year.\", \"value\": 0.0001}, {\"prop\": \"Geopolitics | Xi Jinping is still the premier of China at the end of 2024.\", \"value\": 0.00010000000000000018}, {\"prop\": \"Geopolitics | Benjamin Netanyahu is still the prime minister of Israel at the end of 2024.\", \"value\": 0.00010000000000000018}, {\"prop\": \"Geopolitics | Vladimir Putin is still the president of Russia at the end of 2024.\", \"value\": 0.00010000000000000018}, {\"prop\": \"Sports & Culture | The US wins the gold medal in basketball at the Paris Olympics.\", \"value\": 0.00010000000000000018}, {\"prop\": \"Business & Tech | Meta is ordered to divest a business unit, by federal court or commission.\", \"value\": 0.0004}, {\"prop\": \"Business & Tech | Amazon is ordered to divest a business unit, by federal court or commission.\", \"value\": 0.0004}, {\"prop\": \"Business & Tech | Sam Altman is still the CEO of OpenAI at the end of 2024.\", \"value\": 0.0004000000000000007}, {\"prop\": \"US Politics | Donald Trump is convicted of a federal crime.\", \"value\": 0.0025000000000000005}, {\"prop\": \"US Politics | Joe Biden is impeached.\", \"value\": 0.0025000000000000005}, {\"prop\": \"Sports & Culture | Lionel Messi retires from or otherwise leaves the MLS, and does not change his mind before the end of the year.\", \"value\": 0.0025000000000000005}, {\"prop\": \"Geopolitics | Narendra Modi is still the prime minister of India at the end of 2024.\", \"value\": 0.0025000000000000044}, {\"prop\": \"Sports & Culture | Taylor Swift releases an album of composed primarily of entirely new music.\", \"value\": 0.009999999999999995}, {\"prop\": \"Geopolitics | Russia and Ukraine sign a truce to stop all combat operations and honor it until the end of the year\", \"value\": 0.010000000000000002}, {\"prop\": \"US Politics | A Democrat candidate who isn't Joe Biden is elected president.\", \"value\": 0.0225}, {\"prop\": \"Business & Tech | The Fed raises interest rates at least once in 2024 (even if they also decrease rates).\", \"value\": 0.04000000000000001}, {\"prop\": \"Business & Tech | Alphabet is ordered to divest a business unit, by federal court or commission.\", \"value\": 0.04000000000000001}, {\"prop\": \"US Politics | 2024 elections give Democrats control of the House of Representatives.\", \"value\": 0.09}, {\"prop\": \"Geopolitics | Vlodymyr Zelenskyy is still the president of Ukraine at the end of 2024.\", \"value\": 0.09000000000000002}, {\"prop\": \"Geopolitics | Pope Francis (Jorge Mario Bergoglio) is still the active pope at the end of 2024.\", \"value\": 0.09000000000000002}, {\"prop\": \"US Politics | Joe Biden is re-elected president.\", \"value\": 0.12249999999999998}, {\"prop\": \"Business & Tech | OpenAI releases (or allows a public preview of) a product branded \\\"\\\"GPT-5\\\"\\\" or \\\"\\\"ChatGPT-5\\\"\\\".\", \"value\": 0.16000000000000003}, {\"prop\": \"US Politics | 2024 elections give Democrats control of the Senate.\", \"value\": 0.2025}, {\"prop\": \"Business & Tech | The S&P 500 closes the year higher than it began.\", \"value\": 0.25}, {\"prop\": \"US Politics | Donald Trump is elected president.\", \"value\": 0.25010001}, {\"prop\": \"Sports & Culture | The US wins the most gold medals of any country (or ties for first) in the Paris Olympics.\", \"value\": 0.36}, {\"prop\": \"Sports & Culture | One of the three championship favorites (Boston Celtics, Denver Nuggets, Milwaukee Bucks) wins the 2024 NBA title.\", \"value\": 0.48999999999999994}, {\"prop\": \"Sports & Culture | LeBron James and his son LeBron Jr (aka \\\"\\\"Bronny\\\"\\\") are under contract with the same NBA team at any point during 2024.\", \"value\": 0.6400000000000001}, {\"prop\": \"US Politics | At least one third-party US presidential candidate gets 3% or more of the popular vote.\", \"value\": 0.81}, {\"prop\": \"Sports & Culture | Mainstream news outlets report definitively that Taylor Swift and Travis Kelce have broken up.\", \"value\": 0.81}, {\"prop\": \"US Politics | President Jimmy Carter is still alive at the end of 2024.\", \"value\": 0.9801}], \"data-2262632cf0289b48cc0043585ebf7ac6\": [{\"prop\": \"Geopolitics | Nuclear weapons are used in an attack (not just tested) somewhere in the world.\", \"value\": 0.0001}, {\"prop\": \"US Politics | At least one third-party US presidential candidate gets 3% or more of the popular vote.\", \"value\": 0.0009}, {\"prop\": \"Geopolitics | China lands ground forces on the island of Taiwan\", \"value\": 0.0025000000000000005}, {\"prop\": \"US Politics | The US president elect dies between the election and the end of 2024.\", \"value\": 0.0025000000000000005}, {\"prop\": \"US Politics | Joe Biden is impeached.\", \"value\": 0.0025000000000000005}, {\"prop\": \"Geopolitics | Vlodymyr Zelenskyy is still the president of Ukraine at the end of 2024.\", \"value\": 0.0025000000000000044}, {\"prop\": \"Sports & Culture | The US wins the most gold medals of any country (or ties for first) in the Paris Olympics.\", \"value\": 0.0025000000000000044}, {\"prop\": \"Business & Tech | Nvidia remains in the top 10 American companies by market cap at the end of 2024.\", \"value\": 0.0025000000000000044}, {\"prop\": \"Business & Tech | The X/Twitter platform still exists at the end of the year: you can log in, share content, and view content.\", \"value\": 0.009999999999999995}, {\"prop\": \"Business & Tech | Tim Cook is still the CEO of Apple at the end of the year.\", \"value\": 0.009999999999999995}, {\"prop\": \"US Politics | A Democrat candidate who isn't Joe Biden is elected president.\", \"value\": 0.010000000000000002}, {\"prop\": \"US Politics | Donald Trump is convicted of a federal crime.\", \"value\": 0.0225}, {\"prop\": \"Geopolitics | Xi Jinping is still the premier of China at the end of 2024.\", \"value\": 0.03999999999999998}, {\"prop\": \"Geopolitics | Vladimir Putin is still the president of Russia at the end of 2024.\", \"value\": 0.03999999999999998}, {\"prop\": \"Geopolitics | Pope Francis (Jorge Mario Bergoglio) is still the active pope at the end of 2024.\", \"value\": 0.03999999999999998}, {\"prop\": \"Geopolitics | Russia and Ukraine sign a truce to stop all combat operations and honor it until the end of the year\", \"value\": 0.04000000000000001}, {\"prop\": \"Business & Tech | Meta is ordered to divest a business unit, by federal court or commission.\", \"value\": 0.04000000000000001}, {\"prop\": \"Business & Tech | Amazon is ordered to divest a business unit, by federal court or commission.\", \"value\": 0.04000000000000001}, {\"prop\": \"Business & Tech | Alphabet is ordered to divest a business unit, by federal court or commission.\", \"value\": 0.04000000000000001}, {\"prop\": \"US Politics | A Republican candidate who isn't Donald Trump is elected president.\", \"value\": 0.0625}, {\"prop\": \"Business & Tech | The S&P 500 closes the year higher than it began.\", \"value\": 0.0625}, {\"prop\": \"Business & Tech | Andy Jassy is still the CEO of Amazon at the end of the year.\", \"value\": 0.0625}, {\"prop\": \"US Politics | At least one member of the US Supreme Court steps down or dies during 2024.\", \"value\": 0.09}, {\"prop\": \"Sports & Culture | Mainstream news outlets report definitively that Taylor Swift and Travis Kelce have broken up.\", \"value\": 0.09}, {\"prop\": \"Business & Tech | The Fed raises interest rates at least once in 2024 (even if they also decrease rates).\", \"value\": 0.09}, {\"prop\": \"Geopolitics | Narendra Modi is still the prime minister of India at the end of 2024.\", \"value\": 0.09000000000000002}, {\"prop\": \"Geopolitics | Benjamin Netanyahu is still the prime minister of Israel at the end of 2024.\", \"value\": 0.09000000000000002}, {\"prop\": \"US Politics | 2024 elections give Democrats control of the Senate.\", \"value\": 0.16000000000000003}, {\"prop\": \"Sports & Culture | Taylor Swift releases an album of composed primarily of entirely new music.\", \"value\": 0.16000000000000003}, {\"prop\": \"Sports & Culture | The US wins the gold medal in basketball at the Paris Olympics.\", \"value\": 0.16000000000000003}, {\"prop\": \"Sports & Culture | One of the three championship favorites (Boston Celtics, Denver Nuggets, Milwaukee Bucks) wins the 2024 NBA title.\", \"value\": 0.16000000000000003}, {\"prop\": \"Business & Tech | Sam Altman is still the CEO of OpenAI at the end of 2024.\", \"value\": 0.16000000000000003}, {\"prop\": \"US Politics | Joe Biden is re-elected president.\", \"value\": 0.25}, {\"prop\": \"Sports & Culture | LeBron James retires from or otherwise leaves the NBA, and does not change his mind before the end of the year.\", \"value\": 0.25}, {\"prop\": \"Sports & Culture | Lionel Messi retires from or otherwise leaves the MLS, and does not change his mind before the end of the year.\", \"value\": 0.25}, {\"prop\": \"Business & Tech | OpenAI releases (or allows a public preview of) a product branded \\\"\\\"GPT-5\\\"\\\" or \\\"\\\"ChatGPT-5\\\"\\\".\", \"value\": 0.25}, {\"prop\": \"US Politics | 2024 elections give Democrats control of the House of Representatives.\", \"value\": 0.36}, {\"prop\": \"US Politics | President Jimmy Carter is still alive at the end of 2024.\", \"value\": 0.36}, {\"prop\": \"US Politics | Donald Trump is elected president.\", \"value\": 0.7224999999999999}, {\"prop\": \"Sports & Culture | LeBron James and his son LeBron Jr (aka \\\"\\\"Bronny\\\"\\\") are under contract with the same NBA team at any point during 2024.\", \"value\": 0.9025}], \"data-c42902965bf79c12d76673907244f177\": [{\"prop\": \"Geopolitics | Nuclear weapons are used in an attack (not just tested) somewhere in the world.\", \"value\": 1e-06}, {\"prop\": \"US Politics | A Republican candidate who isn't Donald Trump is elected president.\", \"value\": 0.0025000000000000005}, {\"prop\": \"Sports & Culture | Taylor Swift releases an album of composed primarily of entirely new music.\", \"value\": 0.0025000000000000044}, {\"prop\": \"Business & Tech | Sam Altman is still the CEO of OpenAI at the end of 2024.\", \"value\": 0.009999999999999995}, {\"prop\": \"Business & Tech | The X/Twitter platform still exists at the end of the year: you can log in, share content, and view content.\", \"value\": 0.009999999999999995}, {\"prop\": \"US Politics | A Democrat candidate who isn't Joe Biden is elected president.\", \"value\": 0.010000000000000002}, {\"prop\": \"Geopolitics | Russia and Ukraine sign a truce to stop all combat operations and honor it until the end of the year\", \"value\": 0.0225}, {\"prop\": \"Geopolitics | Xi Jinping is still the premier of China at the end of 2024.\", \"value\": 0.022500000000000006}, {\"prop\": \"Geopolitics | Narendra Modi is still the prime minister of India at the end of 2024.\", \"value\": 0.022500000000000006}, {\"prop\": \"Geopolitics | Vladimir Putin is still the president of Russia at the end of 2024.\", \"value\": 0.022500000000000006}, {\"prop\": \"Business & Tech | Tim Cook is still the CEO of Apple at the end of the year.\", \"value\": 0.03999999999999998}, {\"prop\": \"Sports & Culture | LeBron James retires from or otherwise leaves the NBA, and does not change his mind before the end of the year.\", \"value\": 0.0625}, {\"prop\": \"Sports & Culture | The US wins the gold medal in basketball at the Paris Olympics.\", \"value\": 0.0625}, {\"prop\": \"Sports & Culture | One of the three championship favorites (Boston Celtics, Denver Nuggets, Milwaukee Bucks) wins the 2024 NBA title.\", \"value\": 0.0625}, {\"prop\": \"Business & Tech | Nvidia remains in the top 10 American companies by market cap at the end of 2024.\", \"value\": 0.0625}, {\"prop\": \"Geopolitics | Benjamin Netanyahu is still the prime minister of Israel at the end of 2024.\", \"value\": 0.12249999999999998}, {\"prop\": \"Sports & Culture | Mainstream news outlets report definitively that Taylor Swift and Travis Kelce have broken up.\", \"value\": 0.12249999999999998}, {\"prop\": \"Business & Tech | The S&P 500 closes the year higher than it began.\", \"value\": 0.12249999999999998}, {\"prop\": \"US Politics | Joe Biden is impeached.\", \"value\": 0.16000000000000003}, {\"prop\": \"Business & Tech | The Fed raises interest rates at least once in 2024 (even if they also decrease rates).\", \"value\": 0.16000000000000003}, {\"prop\": \"Geopolitics | Vlodymyr Zelenskyy is still the president of Ukraine at the end of 2024.\", \"value\": 0.20249999999999996}, {\"prop\": \"US Politics | At least one third-party US presidential candidate gets 3% or more of the popular vote.\", \"value\": 0.2025}, {\"prop\": \"Geopolitics | Pope Francis (Jorge Mario Bergoglio) is still the active pope at the end of 2024.\", \"value\": 0.25}, {\"prop\": \"Sports & Culture | Lionel Messi retires from or otherwise leaves the MLS, and does not change his mind before the end of the year.\", \"value\": 0.25}, {\"prop\": \"Business & Tech | Andy Jassy is still the CEO of Amazon at the end of the year.\", \"value\": 0.25}, {\"prop\": \"US Politics | 2024 elections give Democrats control of the Senate.\", \"value\": 0.27040000000000003}, {\"prop\": \"US Politics | 2024 elections give Democrats control of the House of Representatives.\", \"value\": 0.3364}, {\"prop\": \"US Politics | Joe Biden is re-elected president.\", \"value\": 0.36}, {\"prop\": \"Geopolitics | China lands ground forces on the island of Taiwan\", \"value\": 0.42250000000000004}, {\"prop\": \"US Politics | The US president elect dies between the election and the end of 2024.\", \"value\": 0.48999999999999994}, {\"prop\": \"US Politics | President Jimmy Carter is still alive at the end of 2024.\", \"value\": 0.48999999999999994}, {\"prop\": \"Business & Tech | Amazon is ordered to divest a business unit, by federal court or commission.\", \"value\": 0.48999999999999994}, {\"prop\": \"US Politics | Donald Trump is elected president.\", \"value\": 0.6400000000000001}, {\"prop\": \"Business & Tech | Meta is ordered to divest a business unit, by federal court or commission.\", \"value\": 0.6400000000000001}, {\"prop\": \"US Politics | Donald Trump is convicted of a federal crime.\", \"value\": 0.7224999999999999}, {\"prop\": \"Sports & Culture | The US wins the most gold medals of any country (or ties for first) in the Paris Olympics.\", \"value\": 0.7224999999999999}, {\"prop\": \"Business & Tech | OpenAI releases (or allows a public preview of) a product branded \\\"\\\"GPT-5\\\"\\\" or \\\"\\\"ChatGPT-5\\\"\\\".\", \"value\": 0.7224999999999999}, {\"prop\": \"Business & Tech | Alphabet is ordered to divest a business unit, by federal court or commission.\", \"value\": 0.7224999999999999}, {\"prop\": \"US Politics | At least one member of the US Supreme Court steps down or dies during 2024.\", \"value\": 0.8464}, {\"prop\": \"Sports & Culture | LeBron James and his son LeBron Jr (aka \\\"\\\"Bronny\\\"\\\") are under contract with the same NBA team at any point during 2024.\", \"value\": 0.8464}], \"data-b7c644ad640508c59629f96cd85a5026\": [{\"prop\": \"Geopolitics | Nuclear weapons are used in an attack (not just tested) somewhere in the world.\", \"value\": 0.00024763314049586774}, {\"prop\": \"Geopolitics | Xi Jinping is still the premier of China at the end of 2024.\", \"value\": 0.0038778925619834554}, {\"prop\": \"US Politics | A Democrat candidate who isn't Joe Biden is elected president.\", \"value\": 0.005422314049586775}, {\"prop\": \"US Politics | A Republican candidate who isn't Donald Trump is elected president.\", \"value\": 0.008432248016528926}, {\"prop\": \"Geopolitics | Vladimir Putin is still the president of Russia at the end of 2024.\", \"value\": 0.0089388429752066}, {\"prop\": \"Geopolitics | China lands ground forces on the island of Taiwan\", \"value\": 0.010740495867768598}, {\"prop\": \"Geopolitics | Narendra Modi is still the prime minister of India at the end of 2024.\", \"value\": 0.010929752066115716}, {\"prop\": \"US Politics | The US president elect dies between the election and the end of 2024.\", \"value\": 0.012462677685950411}, {\"prop\": \"Business & Tech | Tim Cook is still the CEO of Apple at the end of the year.\", \"value\": 0.018619842975206594}, {\"prop\": \"Geopolitics | Vlodymyr Zelenskyy is still the president of Ukraine at the end of 2024.\", \"value\": 0.025309917355371855}, {\"prop\": \"Geopolitics | Pope Francis (Jorge Mario Bergoglio) is still the active pope at the end of 2024.\", \"value\": 0.02648016528925616}, {\"prop\": \"Business & Tech | The X/Twitter platform still exists at the end of the year: you can log in, share content, and view content.\", \"value\": 0.02952461165289256}, {\"prop\": \"Sports & Culture | The US wins the gold medal in basketball at the Paris Olympics.\", \"value\": 0.03679421487603304}, {\"prop\": \"US Politics | Joe Biden is impeached.\", \"value\": 0.040182024793388435}, {\"prop\": \"Business & Tech | Sam Altman is still the CEO of OpenAI at the end of 2024.\", \"value\": 0.040730578512396726}, {\"prop\": \"Business & Tech | Amazon is ordered to divest a business unit, by federal court or commission.\", \"value\": 0.04296198347107439}, {\"prop\": \"Business & Tech | Andy Jassy is still the CEO of Amazon at the end of the year.\", \"value\": 0.045679347107437984}, {\"prop\": \"Business & Tech | Meta is ordered to divest a business unit, by federal court or commission.\", \"value\": 0.0484}, {\"prop\": \"Sports & Culture | Lionel Messi retires from or otherwise leaves the MLS, and does not change his mind before the end of the year.\", \"value\": 0.049607438016528935}, {\"prop\": \"Sports & Culture | LeBron James retires from or otherwise leaves the NBA, and does not change his mind before the end of the year.\", \"value\": 0.05248264462809915}, {\"prop\": \"Business & Tech | Alphabet is ordered to divest a business unit, by federal court or commission.\", \"value\": 0.06159421487603305}, {\"prop\": \"Business & Tech | The S&P 500 closes the year higher than it began.\", \"value\": 0.06479338842975199}, {\"prop\": \"Geopolitics | Russia and Ukraine sign a truce to stop all combat operations and honor it until the end of the year\", \"value\": 0.06712809917355375}, {\"prop\": \"Geopolitics | Benjamin Netanyahu is still the prime minister of Israel at the end of 2024.\", \"value\": 0.08515785123966939}, {\"prop\": \"Business & Tech | Nvidia remains in the top 10 American companies by market cap at the end of 2024.\", \"value\": 0.10129752892561983}, {\"prop\": \"Sports & Culture | One of the three championship favorites (Boston Celtics, Denver Nuggets, Milwaukee Bucks) wins the 2024 NBA title.\", \"value\": 0.10710743801652893}, {\"prop\": \"US Politics | At least one member of the US Supreme Court steps down or dies during 2024.\", \"value\": 0.1143669421487603}, {\"prop\": \"Business & Tech | The Fed raises interest rates at least once in 2024 (even if they also decrease rates).\", \"value\": 0.11683966942148763}, {\"prop\": \"Sports & Culture | The US wins the most gold medals of any country (or ties for first) in the Paris Olympics.\", \"value\": 0.14439999999999983}, {\"prop\": \"US Politics | At least one third-party US presidential candidate gets 3% or more of the popular vote.\", \"value\": 0.16072809917355366}, {\"prop\": \"US Politics | 2024 elections give Democrats control of the Senate.\", \"value\": 0.19600743801652898}, {\"prop\": \"Sports & Culture | Taylor Swift releases an album of composed primarily of entirely new music.\", \"value\": 0.20661157024793392}, {\"prop\": \"US Politics | Joe Biden is re-elected president.\", \"value\": 0.2149586776859504}, {\"prop\": \"US Politics | 2024 elections give Democrats control of the House of Representatives.\", \"value\": 0.2761024793388429}, {\"prop\": \"US Politics | Donald Trump is convicted of a federal crime.\", \"value\": 0.2780165289256198}, {\"prop\": \"Sports & Culture | Mainstream news outlets report definitively that Taylor Swift and Travis Kelce have broken up.\", \"value\": 0.29752066115702486}, {\"prop\": \"US Politics | Donald Trump is elected president.\", \"value\": 0.3765607438842976}, {\"prop\": \"Business & Tech | OpenAI releases (or allows a public preview of) a product branded \\\"\\\"GPT-5\\\"\\\" or \\\"\\\"ChatGPT-5\\\"\\\".\", \"value\": 0.40727603305785126}, {\"prop\": \"Sports & Culture | LeBron James and his son LeBron Jr (aka \\\"\\\"Bronny\\\"\\\") are under contract with the same NBA team at any point during 2024.\", \"value\": 0.6738917355371901}, {\"prop\": \"US Politics | President Jimmy Carter is still alive at the end of 2024.\", \"value\": 0.710036041322314}]}}, {\"mode\": \"vega-lite\"});\n",
       "</script>"
      ],
      "text/plain": [
       "alt.VConcatChart(...)"
      ]
     },
     "execution_count": 131,
     "metadata": {},
     "output_type": "execute_result"
    }
   ],
   "source": [
    "def scorecontrib_for_person(name: str) -> dict[str, float]:\n",
    "    category_scores = {}\n",
    "    predictions = estimates.filter(pl.col('Name') == name)[props]\n",
    "    prop_scores = [\n",
    "        (prop, (pred - res) ** 2)\n",
    "        for (prop, pred, res) in zip(props, predictions.row(0), resolutions[props].row(0))\n",
    "    ]\n",
    "    return sorted(prop_scores, key=lambda t: t[1])\n",
    "\n",
    "charts = []\n",
    "for person in estimates['Name']:\n",
    "    contrib = pl.DataFrame(\n",
    "        scorecontrib_for_person(person),\n",
    "        orient='row',\n",
    "        schema=['prop', 'value'],\n",
    "    )\n",
    "    chart = alt.Chart(contrib).mark_bar().encode(\n",
    "        x=alt.X('value', scale=alt.Scale(domain=[0, 1])),\n",
    "        y=alt.Y('prop', sort='-x'),\n",
    "        tooltip=['prop', 'value'],\n",
    "    ).properties(\n",
    "        title=person,\n",
    "    )\n",
    "    charts.append(chart)\n",
    "    \n",
    "n_per_row = 3\n",
    "chart = None\n",
    "while charts:\n",
    "    row_charts = charts[:3]\n",
    "    row = reduce(lambda x, y: x | y, row_charts)\n",
    "    if chart is None:\n",
    "        chart = row\n",
    "    else:\n",
    "        chart &= row\n",
    "    charts = charts[3:]\n",
    "chart"
   ]
  },
  {
   "cell_type": "code",
   "execution_count": null,
   "id": "e44d2531-52cb-4725-8c78-37286905a0d5",
   "metadata": {},
   "outputs": [],
   "source": []
  },
  {
   "cell_type": "code",
   "execution_count": null,
   "id": "f6757290-cacf-4d38-92f6-46ac09104291",
   "metadata": {},
   "outputs": [],
   "source": []
  }
 ],
 "metadata": {
  "kernelspec": {
   "display_name": "Python 3 (ipykernel)",
   "language": "python",
   "name": "python3"
  },
  "language_info": {
   "codemirror_mode": {
    "name": "ipython",
    "version": 3
   },
   "file_extension": ".py",
   "mimetype": "text/x-python",
   "name": "python",
   "nbconvert_exporter": "python",
   "pygments_lexer": "ipython3",
   "version": "3.12.3"
  }
 },
 "nbformat": 4,
 "nbformat_minor": 5
}
